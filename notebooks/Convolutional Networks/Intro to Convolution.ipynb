{
 "cells": [
  {
   "cell_type": "markdown",
   "metadata": {},
   "source": [
    "## What is Convolution?\n",
    "\n",
    "Convolution is a mathematical tool that has been used widely for decades to sort out important or meaningful information from signals.  for example, convolution is a key component to all electronics that we use, from radios to mobile phones, sorting out the interesting part of a message from the background.\n"
   ]
  },
  {
   "cell_type": "markdown",
   "metadata": {},
   "source": [
    "Convolution is a special method for combining tensors so that we can find any useful information that may be present.  there are two objects needed for convolution to work: The input signal and the **convolution kernel** or just kernel.  We will see that in the neural network context, the kernel is usually called a **filter**."
   ]
  },
  {
   "cell_type": "markdown",
   "metadata": {},
   "source": [
    "Convolution is either *Discrete* or *Continuous*.  We will only be discussing discrete convolution.  The formula for calculating the output $y$ of a one-dimensional discrete convolution is:\n",
    "\n",
    "$$y[n] = \\sum_{k=1}^n(x[n] \\cdot h[n-k]),$$\n",
    "\n",
    "where $n$ is the step, $x[n]$ is the input and $h$ represents the kernel."
   ]
  },
  {
   "cell_type": "markdown",
   "metadata": {},
   "source": [
    "We can perform a discrete convolution directly using numpy.  We'll stick with one dimension for a bit."
   ]
  },
  {
   "cell_type": "code",
   "execution_count": 12,
   "metadata": {},
   "outputs": [
    {
     "data": {
      "text/plain": [
       "array([ 3.,  3.])"
      ]
     },
     "execution_count": 12,
     "metadata": {},
     "output_type": "execute_result"
    }
   ],
   "source": [
    "import numpy as np\n",
    "\n",
    "x = np.ones((4,), dtype=np.float32) # array of 3 ones\n",
    "h = np.array([1, 1, 1])\n",
    "y = np.convolve(x, h, mode='VALID') # this returns a single value.\n",
    "y"
   ]
  },
  {
   "cell_type": "markdown",
   "metadata": {},
   "source": [
    "The mode used above tells the convolution whether or not to **zero-pad** the beginning and ending of the output.  without zero padding, as above, $y$ is smaller than $x$.  There are 3 options for the mode:\n",
    "\n",
    "* SAME - add zeros to the beginning and ending of $x$ so that $y$ is the same shape as $x$.\n",
    "* VALID - No zeros at the beginning or end of $x$ so the output $y$ is smaller that the input.\n",
    "* FULL - All points of overlap between $x$ and $h$ are considered, so this is similar to FULL>  We won't use this mode.\n",
    "\n",
    "'SAME' and 'VALID' sampling are supported in tensorflow convolutions.  Below we do the same convolution as above but with `mode='SAME'`."
   ]
  },
  {
   "cell_type": "code",
   "execution_count": 13,
   "metadata": {},
   "outputs": [
    {
     "data": {
      "text/plain": [
       "array([ 2.,  3.,  3.,  2.])"
      ]
     },
     "execution_count": 13,
     "metadata": {},
     "output_type": "execute_result"
    }
   ],
   "source": [
    "y = np.convolve(x, h, mode='SAME') # this returns a single value.\n",
    "y"
   ]
  },
  {
   "cell_type": "markdown",
   "metadata": {},
   "source": [
    "To imagine what is happenening, lets look at what the calculation is doing here. First, with 'VALID' (no) padding, the first step is:\n",
    "\n",
    "```\n",
    "[1, 1, 1]         # h\n",
    " |  |  |\n",
    " V  V  V\n",
    "[1, 1, 1, 1]      # x\n",
    "---------\n",
    "    3             # y[0]\n",
    "```\n",
    "\n",
    "and the second step:\n",
    "\n",
    "```\n",
    "   [1, 1, 1]      # h\n",
    "    |  |  |\n",
    "    V  V  V\n",
    "[1, 1, 1, 1]      # x\n",
    "   ---------\n",
    "       3          # y[1]\n",
    "```\n",
    "\n",
    "Here is the first step with 'SAME' padding:\n",
    "\n",
    "```\n",
    "[1, 1, 1]         # h\n",
    " |  |  |\n",
    " V  V  V\n",
    " 0 [1, 1, 1, 1]   # x\n",
    "---------\n",
    "    2             # y[0]\n",
    "```\n",
    "\n",
    "and the second step:\n",
    "\n",
    "```\n",
    "   [1, 1, 1]      # h\n",
    "    |  |  |\n",
    "    V  V  V\n",
    " 0 [1, 1, 1, 1]   # x\n",
    "   ---------\n",
    "       3          # y[1]\n",
    "```\n",
    "And so on.  The padding will also happen on the last step:\n",
    "\n",
    "```\n",
    "         [1, 1, 1]      # h\n",
    "          |  |  |\n",
    "          V  V  V\n",
    " 0 [1, 1, 1, 1] 0       # x\n",
    "         ---------\n",
    "             2          # y[4]\n",
    "```\n",
    "\n",
    "Also, the size of the padding will change based on the size of the kernel.  Longer kernels require more padding for 'SAME' mode.  Note that $y$ has the *same* shape as $x$."
   ]
  },
  {
   "cell_type": "markdown",
   "metadata": {},
   "source": [
    "### 2D Convolutions with tensorflow\n",
    "So far we are looking at rank 1 tensors (i. e., vectors) for the input, the kernel, and the output.  convolutions are often used with higher order tensors to process images.  Convolutions are a foundational tool in image processing and object recognition."
   ]
  },
  {
   "cell_type": "markdown",
   "metadata": {},
   "source": [
    "Visualizing convolution can be challenging.  [Vincent Dumoulins github](https://github.com/vdumoulin/conv_arithmetic/blob/master/README.md) has a great gif visualization of 2D convolutios."
   ]
  },
  {
   "cell_type": "code",
   "execution_count": 77,
   "metadata": {},
   "outputs": [
    {
     "name": "stdout",
     "output_type": "stream",
     "text": [
      "Extracting MNIST_data/train-images-idx3-ubyte.gz\n",
      "Extracting MNIST_data/train-labels-idx1-ubyte.gz\n",
      "Extracting MNIST_data/t10k-images-idx3-ubyte.gz\n",
      "Extracting MNIST_data/t10k-labels-idx1-ubyte.gz\n",
      "(55000, 784)\n"
     ]
    }
   ],
   "source": [
    "# A tensorflow example in higher dimensions\n",
    "# First, lets load some small MNIST samples from scikit-learn\n",
    "#from sklearn.datasets import load_digits\n",
    "#digits = load_digits()\n",
    "\n",
    "from tensorflow.examples.tutorials.mnist import input_data\n",
    "digits = input_data.read_data_sets(\"MNIST_data/\", one_hot=False).train\n",
    "\n",
    "print(digits.images.shape)\n"
   ]
  },
  {
   "cell_type": "code",
   "execution_count": 84,
   "metadata": {},
   "outputs": [
    {
     "name": "stdout",
     "output_type": "stream",
     "text": [
      "9\n",
      "(784,)\n",
      "(28, 28)\n"
     ]
    },
    {
     "data": {
      "text/plain": [
       "<matplotlib.figure.Figure at 0x7f949cee8940>"
      ]
     },
     "metadata": {},
     "output_type": "display_data"
    },
    {
     "data": {
      "image/png": "[encoded data removed]",
      "text/plain": [
       "<matplotlib.figure.Figure at 0x7f949cec4908>"
      ]
     },
     "metadata": {},
     "output_type": "display_data"
    }
   ],
   "source": [
    "import matplotlib.pyplot as plt \n",
    "index = 45\n",
    "print(digits.labels[index])\n",
    "inp = digits.images[index]\n",
    "print(inp.shape)\n",
    "inp.resize(28, 28)\n",
    "print(inp.shape)\n",
    "plt.gray() \n",
    "plt.matshow(inp) \n",
    "plt.show() \n",
    "\n",
    "# prepare tensor\n",
    "inp.resize(1,28,28,1)"
   ]
  },
  {
   "cell_type": "code",
   "execution_count": 85,
   "metadata": {},
   "outputs": [
    {
     "name": "stdout",
     "output_type": "stream",
     "text": [
      "(3, 3)\n",
      "(3, 3, 1, 1)\n",
      "(3, 3)\n"
     ]
    },
    {
     "data": {
      "text/plain": [
       "<matplotlib.figure.Figure at 0x7f94abfffb00>"
      ]
     },
     "metadata": {},
     "output_type": "display_data"
    },
    {
     "data": {
      "image/png": "[encoded data removed]",
      "text/plain": [
       "<matplotlib.figure.Figure at 0x7f94abfffa58>"
      ]
     },
     "metadata": {},
     "output_type": "display_data"
    }
   ],
   "source": [
    "# create a small convolution kernel for edge detection\n",
    "kernel = np.matrix([[0,  1, 0], \n",
    "                    [1, -4, 1], \n",
    "                    [0,  1, 0]])\n",
    "filt = np.copy(kernel)\n",
    "print(filt.shape)\n",
    "filt.resize(filt.shape[0], filt.shape[1], 1, 1)\n",
    "print(filt.shape)\n",
    "print(kernel.shape)\n",
    "# we can display the kernel as a 3X3 gray-scale image\n",
    "plt.gray() \n",
    "plt.matshow(kernel) \n",
    "plt.show() "
   ]
  },
  {
   "cell_type": "code",
   "execution_count": 87,
   "metadata": {},
   "outputs": [
    {
     "name": "stdout",
     "output_type": "stream",
     "text": [
      "(1, 26, 26, 1)\n"
     ]
    },
    {
     "data": {
      "text/plain": [
       "<matplotlib.figure.Figure at 0x7f949d152588>"
      ]
     },
     "metadata": {},
     "output_type": "display_data"
    },
    {
     "data": {
      "image/png": "[encoded data removed]",
      "text/plain": [
       "<matplotlib.figure.Figure at 0x7f94970d1a90>"
      ]
     },
     "metadata": {},
     "output_type": "display_data"
    }
   ],
   "source": [
    "import tensorflow as tf\n",
    "\n",
    "def reset_graph(seed=42):\n",
    "    tf.reset_default_graph()\n",
    "    tf.set_random_seed(seed)\n",
    "    np.random.seed(seed)\n",
    "    \n",
    "# now we can define a tensorflow graph that \n",
    "#  applies the convolution to the input image.\n",
    "x = tf.placeholder(tf.float32, shape=None, name = \"x\")\n",
    "h = tf.placeholder(tf.float32, shape=None, name = \"h\")\n",
    "\n",
    "conv = tf.nn.conv2d(x, h, strides=[1, 1, 1, 1], padding = 'VALID')\n",
    "init = tf.global_variables_initializer()\n",
    "\n",
    "with tf.Session() as sess:\n",
    "    sess.run(init)\n",
    "    result = sess.run(conv, feed_dict = \n",
    "                      {x: inp, h: filt})\n",
    "    print(result.shape)\n",
    "    plt.gray() \n",
    "    plt.matshow(result.reshape(26,26)) \n",
    "    plt.show()\n",
    "    \n",
    "    "
   ]
  },
  {
   "cell_type": "markdown",
   "metadata": {},
   "source": [
    "Here we have hard-coded a kernel for convolving images and run it through tensorflow to generate a new image.  below we do this again for a zero-padded image:"
   ]
  },
  {
   "cell_type": "code",
   "execution_count": 90,
   "metadata": {},
   "outputs": [
    {
     "name": "stdout",
     "output_type": "stream",
     "text": [
      "(1, 28, 28, 1)\n"
     ]
    },
    {
     "data": {
      "text/plain": [
       "<matplotlib.figure.Figure at 0x7f9496fbe6a0>"
      ]
     },
     "metadata": {},
     "output_type": "display_data"
    },
    {
     "data": {
      "image/png": "[encoded data removed]",
      "text/plain": [
       "<matplotlib.figure.Figure at 0x7f9497056748>"
      ]
     },
     "metadata": {},
     "output_type": "display_data"
    }
   ],
   "source": [
    "conv2 = tf.nn.conv2d(x, h, strides=[1, 1, 1, 1], padding = 'SAME')\n",
    "with tf.Session() as sess:\n",
    "    sess.run(init)\n",
    "    result = sess.run(conv2, feed_dict = \n",
    "                      {x: inp, h: filt})\n",
    "    print(result.shape)\n",
    "    plt.gray() \n",
    "    plt.matshow(result.reshape(28,28)) \n",
    "    plt.show()\n",
    "    \n"
   ]
  },
  {
   "cell_type": "code",
   "execution_count": 93,
   "metadata": {},
   "outputs": [
    {
     "name": "stdout",
     "output_type": "stream",
     "text": [
      "(1, 28, 28, 1)\n"
     ]
    },
    {
     "data": {
      "text/plain": [
       "<matplotlib.figure.Figure at 0x7f9496f0acf8>"
      ]
     },
     "metadata": {},
     "output_type": "display_data"
    },
    {
     "data": {
      "image/png": "[encoded data removed]",
      "text/plain": [
       "<matplotlib.figure.Figure at 0x7f9496f3d7f0>"
      ]
     },
     "metadata": {},
     "output_type": "display_data"
    }
   ],
   "source": [
    "# Try some alternate kernels to see what they do.\n",
    "horizontal_kernel = np.matrix([[0, 0, 0], \n",
    "                               [1, 1, 1], \n",
    "                               [0, 0, 0]])\n",
    "horizontal_kernel.resize(3, 3, 1, 1)\n",
    "with tf.Session() as sess:\n",
    "    sess.run(init)\n",
    "    result = sess.run(conv2, feed_dict = \n",
    "                      {x: inp, h: horizontal_kernel})\n",
    "    print(result.shape)\n",
    "    plt.gray() \n",
    "    plt.matshow(result.reshape(28,28)) \n",
    "    plt.show()\n",
    "    \n"
   ]
  },
  {
   "cell_type": "code",
   "execution_count": 121,
   "metadata": {},
   "outputs": [
    {
     "name": "stdout",
     "output_type": "stream",
     "text": [
      "(1, 28, 28, 7)\n"
     ]
    },
    {
     "data": {
      "image/png": "[encoded data removed]",
      "text/plain": [
       "<matplotlib.figure.Figure at 0x7f94966212e8>"
      ]
     },
     "metadata": {},
     "output_type": "display_data"
    }
   ],
   "source": [
    "# more than one kernel at a time\n",
    "kernels = np.array([\n",
    "           [[0, 0, 0], [1, 1, 1], [0, 0, 0]],\n",
    "           [[1, 1, 1], [0, 0, 0], [1, 1, 1]],\n",
    "           [[0, 1, 0], [0, 1, 0], [0, 1, 0]],\n",
    "           [[1, 0, 1], [1, 0, 1], [1, 0, 1]],\n",
    "           [[1, 0, 0], [0, 1, 0], [0, 0, 1]],\n",
    "           [[0, 0, 1], [0, 1, 0], [1, 0, 0]],\n",
    "           [[1, 0, 1], [0, 1, 0], [1, 0, 1]],\n",
    "           ], dtype=np.float32)\n",
    "\n",
    "kernels.resize(3, 3, 1, 7)\n",
    "with tf.Session() as sess:\n",
    "    sess.run(init)\n",
    "    result = sess.run(conv2, feed_dict = \n",
    "                      {x: inp, h: kernels})\n",
    "    print(result.shape)\n",
    "    \n",
    "fig, ax = plt.subplots(1, result.shape[3], figsize=(15,15))\n",
    "for i in range(result.shape[-1]):\n",
    "    ax[i].matshow(result[:, :, :, i].reshape(28,28), cmap=plt.cm.gray)\n",
    "    ax[i].set_xticks(())\n",
    "    ax[i].set_yticks(())\n",
    "\n",
    "plt.show()\n",
    "    \n"
   ]
  },
  {
   "cell_type": "markdown",
   "metadata": {},
   "source": [
    "### Convolutional Neural Networks\n",
    "A Convolutional Neural Network (CNN) will learn kernel values and then apply them to input images.  Another notebook will go into this topic.  "
   ]
  }
 ],
 "metadata": {
  "kernelspec": {
   "display_name": "Python 3",
   "language": "python",
   "name": "python3"
  },
  "language_info": {
   "codemirror_mode": {
    "name": "ipython",
    "version": 3
   },
   "file_extension": ".py",
   "mimetype": "text/x-python",
   "name": "python",
   "nbconvert_exporter": "python",
   "pygments_lexer": "ipython3",
   "version": "3.5.2"
  }
 },
 "nbformat": 4,
 "nbformat_minor": 2
}
