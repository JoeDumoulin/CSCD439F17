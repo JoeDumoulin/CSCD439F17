{
 "cells": [
  {
   "cell_type": "markdown",
   "metadata": {},
   "source": [
    "## Simple Linear Regression Modeling\n"
   ]
  },
  {
   "cell_type": "markdown",
   "metadata": {},
   "source": [
    "### An Example"
   ]
  },
  {
   "cell_type": "code",
   "execution_count": 1,
   "metadata": {},
   "outputs": [
    {
     "data": {
      "text/html": [
       "<div style=\"max-height:1000px;max-width:1500px;overflow:auto;\">\n",
       "<table border=\"1\" class=\"dataframe\">\n",
       "  <thead>\n",
       "    <tr style=\"text-align: right;\">\n",
       "      <th></th>\n",
       "      <th>Education</th>\n",
       "      <th>Income</th>\n",
       "    </tr>\n",
       "  </thead>\n",
       "  <tbody>\n",
       "    <tr>\n",
       "      <th>0</th>\n",
       "      <td> 10.000000</td>\n",
       "      <td> 26.658839</td>\n",
       "    </tr>\n",
       "    <tr>\n",
       "      <th>1</th>\n",
       "      <td> 10.401338</td>\n",
       "      <td> 27.306435</td>\n",
       "    </tr>\n",
       "    <tr>\n",
       "      <th>2</th>\n",
       "      <td> 10.842809</td>\n",
       "      <td> 22.132410</td>\n",
       "    </tr>\n",
       "    <tr>\n",
       "      <th>3</th>\n",
       "      <td> 11.244147</td>\n",
       "      <td> 21.169841</td>\n",
       "    </tr>\n",
       "    <tr>\n",
       "      <th>4</th>\n",
       "      <td> 11.645485</td>\n",
       "      <td> 15.192634</td>\n",
       "    </tr>\n",
       "  </tbody>\n",
       "</table>\n",
       "</div>"
      ],
      "text/plain": [
       "   Education     Income\n",
       "0  10.000000  26.658839\n",
       "1  10.401338  27.306435\n",
       "2  10.842809  22.132410\n",
       "3  11.244147  21.169841\n",
       "4  11.645485  15.192634"
      ]
     },
     "execution_count": 1,
     "metadata": {},
     "output_type": "execute_result"
    }
   ],
   "source": [
    "import pandas as pd\n",
    "df = pd.read_csv('Income1.csv')[['Education', 'Income']]\n",
    "df.head()"
   ]
  },
  {
   "cell_type": "code",
   "execution_count": 2,
   "metadata": {},
   "outputs": [
    {
     "data": {
      "text/plain": [
       "Intercept   -39.446257\n",
       "Education     5.599483\n",
       "dtype: float64"
      ]
     },
     "execution_count": 2,
     "metadata": {},
     "output_type": "execute_result"
    }
   ],
   "source": [
    "import numpy as np\n",
    "import statsmodels.api as sm\n",
    "from patsy import dmatrices\n",
    "y, X = dmatrices('Income ~ Education', data=df, return_type='dataframe')\n",
    "model = sm.OLS(y, sm.add_constant(X))\n",
    "results = model.fit()\n",
    "p = results.params\n",
    "p"
   ]
  },
  {
   "cell_type": "code",
   "execution_count": 3,
   "metadata": {},
   "outputs": [
    {
     "data": {
      "image/png": "[encoded data removed]",
      "text/plain": [
       "<matplotlib.figure.Figure at 0x107e0ea10>"
      ]
     },
     "metadata": {},
     "output_type": "display_data"
    }
   ],
   "source": [
    "import matplotlib.pyplot as plt\n",
    "xs = np.arange(10, 22)\n",
    "# scatter-plot data\n",
    "ax = df.plot(x='Education', y='Income', kind='scatter')\n",
    "\n",
    "# plot regression line on the same axes, set x-axis limits\n",
    "ax.plot(xs, p.Intercept + p.Education * xs, color='red')\n",
    "ax.set_xlim([10, 22])\n",
    "plt.show()\n"
   ]
  },
  {
   "cell_type": "code",
   "execution_count": 4,
   "metadata": {},
   "outputs": [
    {
     "data": {
      "text/html": [
       "<table class=\"simpletable\">\n",
       "<caption>OLS Regression Results</caption>\n",
       "<tr>\n",
       "  <th>Dep. Variable:</th>         <td>Income</td>      <th>  R-squared:         </th> <td>   0.931</td>\n",
       "</tr>\n",
       "<tr>\n",
       "  <th>Model:</th>                   <td>OLS</td>       <th>  Adj. R-squared:    </th> <td>   0.928</td>\n",
       "</tr>\n",
       "<tr>\n",
       "  <th>Method:</th>             <td>Least Squares</td>  <th>  F-statistic:       </th> <td>   377.6</td>\n",
       "</tr>\n",
       "<tr>\n",
       "  <th>Date:</th>             <td>Wed, 04 Oct 2017</td> <th>  Prob (F-statistic):</th> <td>8.63e-18</td>\n",
       "</tr>\n",
       "<tr>\n",
       "  <th>Time:</th>                 <td>09:33:58</td>     <th>  Log-Likelihood:    </th> <td> -93.500</td>\n",
       "</tr>\n",
       "<tr>\n",
       "  <th>No. Observations:</th>      <td>    30</td>      <th>  AIC:               </th> <td>   191.0</td>\n",
       "</tr>\n",
       "<tr>\n",
       "  <th>Df Residuals:</th>          <td>    28</td>      <th>  BIC:               </th> <td>   193.8</td>\n",
       "</tr>\n",
       "<tr>\n",
       "  <th>Df Model:</th>              <td>     1</td>      <th>                     </th>     <td> </td>   \n",
       "</tr>\n",
       "<tr>\n",
       "  <th>Covariance Type:</th>      <td>nonrobust</td>    <th>                     </th>     <td> </td>   \n",
       "</tr>\n",
       "</table>\n",
       "<table class=\"simpletable\">\n",
       "<tr>\n",
       "      <td></td>         <th>coef</th>     <th>std err</th>      <th>t</th>      <th>P>|t|</th>  <th>[0.025</th>    <th>0.975]</th>  \n",
       "</tr>\n",
       "<tr>\n",
       "  <th>Intercept</th> <td>  -39.4463</td> <td>    4.725</td> <td>   -8.349</td> <td> 0.000</td> <td>  -49.125</td> <td>  -29.768</td>\n",
       "</tr>\n",
       "<tr>\n",
       "  <th>Education</th> <td>    5.5995</td> <td>    0.288</td> <td>   19.431</td> <td> 0.000</td> <td>    5.009</td> <td>    6.190</td>\n",
       "</tr>\n",
       "</table>\n",
       "<table class=\"simpletable\">\n",
       "<tr>\n",
       "  <th>Omnibus:</th>       <td> 1.166</td> <th>  Durbin-Watson:     </th> <td>   1.163</td>\n",
       "</tr>\n",
       "<tr>\n",
       "  <th>Prob(Omnibus):</th> <td> 0.558</td> <th>  Jarque-Bera (JB):  </th> <td>   0.774</td>\n",
       "</tr>\n",
       "<tr>\n",
       "  <th>Skew:</th>          <td>-0.391</td> <th>  Prob(JB):          </th> <td>   0.679</td>\n",
       "</tr>\n",
       "<tr>\n",
       "  <th>Kurtosis:</th>      <td> 2.916</td> <th>  Cond. No.          </th> <td>    75.3</td>\n",
       "</tr>\n",
       "</table>"
      ],
      "text/plain": [
       "<class 'statsmodels.iolib.summary.Summary'>\n",
       "\"\"\"\n",
       "                            OLS Regression Results                            \n",
       "==============================================================================\n",
       "Dep. Variable:                 Income   R-squared:                       0.931\n",
       "Model:                            OLS   Adj. R-squared:                  0.928\n",
       "Method:                 Least Squares   F-statistic:                     377.6\n",
       "Date:                Wed, 04 Oct 2017   Prob (F-statistic):           8.63e-18\n",
       "Time:                        09:33:58   Log-Likelihood:                -93.500\n",
       "No. Observations:                  30   AIC:                             191.0\n",
       "Df Residuals:                      28   BIC:                             193.8\n",
       "Df Model:                           1                                         \n",
       "Covariance Type:            nonrobust                                         \n",
       "==============================================================================\n",
       "                 coef    std err          t      P>|t|      [0.025      0.975]\n",
       "------------------------------------------------------------------------------\n",
       "Intercept    -39.4463      4.725     -8.349      0.000     -49.125     -29.768\n",
       "Education      5.5995      0.288     19.431      0.000       5.009       6.190\n",
       "==============================================================================\n",
       "Omnibus:                        1.166   Durbin-Watson:                   1.163\n",
       "Prob(Omnibus):                  0.558   Jarque-Bera (JB):                0.774\n",
       "Skew:                          -0.391   Prob(JB):                        0.679\n",
       "Kurtosis:                       2.916   Cond. No.                         75.3\n",
       "==============================================================================\n",
       "\n",
       "Warnings:\n",
       "[1] Standard Errors assume that the covariance matrix of the errors is correctly specified.\n",
       "\"\"\""
      ]
     },
     "execution_count": 4,
     "metadata": {},
     "output_type": "execute_result"
    }
   ],
   "source": [
    "results.summary()"
   ]
  },
  {
   "cell_type": "markdown",
   "metadata": {},
   "source": [
    "How is this calculation performed?  There are basically two common ways to achieve the Linear regression.  One is to calculated the Linear Least Squares of the data to get a value for m that mimiizes the total squared distance of each point in the data set from the line.  We derive the Least Squares method below."
   ]
  },
  {
   "cell_type": "markdown",
   "metadata": {},
   "source": [
    "### Least Square Method of Fitting - Derivation\n",
    "Least Squares is often used to solve linear regression when the number of rows of training data is not large.  (order of 1000 or less).  With large data sets, least squares will have problems with running slow, using too much memory and cpu, and numerical stability.  \n",
    "\n",
    "We can derive the least squares algorithm by looking at the difference between our actual data and what the prediction with look like.  Our actual data can be represented by $y_i$ for $i=1..n$.  our guess will be a line that approximates $y$ as $\\hat{y} = \\beta_0 + \\beta_1x$.  then at each point in the dataset we can calculate the squared error for one point:\n",
    "$$ (y_i - \\hat{y_i})^2 = (y_i - \\beta_0 - \\beta_1x_i)^2 = R^2$$\n",
    "$R^2$ is known as the *squared residual*.  We will see $R^2$ and $R$ are important values for determining the quality of the regression. Now the line we derive should minimize $R^2$ over all the data:\n",
    "$$ min\\sum_{i}^{N}(y_i - \\hat{y_i})^2  = min\\sum_{i}^{N}(y_i - \\beta_0 - \\beta_1x_i)^2 $$\n",
    "We can find the is minimum by taking the derivative of this function with respect to each $\\beta_j$ and then finding the values for $\\beta_0$ and $\\beta_1$.\n",
    "$$\\frac{\\partial{R^{2}_{min}}}{\\partial{\\beta_0}} = -2\\sum_{i}^{N}(y_i - \\beta_0 - \\beta_1x_i) = 0$$\n",
    "and,\n",
    "$$\\frac{\\partial{R^{2}_{min}}}{\\partial{\\beta_1}} = -2\\sum_{i}^{N}(y_i - \\beta_0 - \\beta_1x_i)x_i = 0$$\n",
    "We will complete the derivation for $\\beta_1$ and use the result to calculate $\\beta_0$."
   ]
  },
  {
   "cell_type": "markdown",
   "metadata": {},
   "source": [
    "The equation above for the derivative with respect to $\\beta_0$ and $\\beta_1$ is equal to zero at the minimum, so we can reformulate those equations as below.  First the derivative with respect to $\\beta_0$:\n",
    "$$\\sum_i^Ny_i = \\sum_i^N(\\beta_0 + \\beta_1x_i) = N\\beta_0 + \\beta_1\\sum_i^Nx_i$$\n",
    "dividing through by N gives:\n",
    "$$\\bar{y} = \\beta_0 + \\beta_1\\bar{x},$$\n",
    "so,\n",
    "$$\\beta_0 = \\bar{y} - \\beta_1\\bar{x}.$$\n",
    "\n"
   ]
  },
  {
   "cell_type": "markdown",
   "metadata": {},
   "source": [
    "Now we will look at the derivative with respect to $\\beta_1$ and substitute the expression for $\\beta_0$\n",
    "\n",
    "$$\\sum_i^Ny_ix_i = \\sum_i^N(\\beta_0 + \\beta_1x_i)x_i = \\beta_0\\sum_i^Nx_i + \\beta_1\\sum_i^Nx_i^2 = \\beta_0\\bar{x}N + \\beta_1\\sum_i^Nx_i^2$$\n",
    "\n"
   ]
  },
  {
   "cell_type": "markdown",
   "metadata": {
    "collapsed": true
   },
   "source": [
    "$$ = \\bar{y}\\bar{x}N-\\beta_1\\bar{x}^2N +\\beta_1\\sum_i^Nx_i^2 = N\\bar{y}\\bar{x}+\\beta_1(\\sum_i^Nx_i^2-N\\bar{x}^2)$$\n",
    "Then\n"
   ]
  },
  {
   "cell_type": "markdown",
   "metadata": {},
   "source": [
    "$$\\beta_1 = \\frac{\\sum_i^Ny_ix_i - N\\bar{y}\\bar{x}}{\\sum_i^Nx_i^2 - N\\bar{x}^2}$$"
   ]
  },
  {
   "cell_type": "markdown",
   "metadata": {},
   "source": [
    "Now we can use the expressions we derived above for $\\beta_0$ and $\\beta_1$ to calculate them directly from the data.  We are using the Income/Education data above:"
   ]
  },
  {
   "cell_type": "code",
   "execution_count": 5,
   "metadata": {},
   "outputs": [
    {
     "data": {
      "text/plain": [
       "(-39.446256679096756, 5.5994828741199552)"
      ]
     },
     "execution_count": 5,
     "metadata": {},
     "output_type": "execute_result"
    }
   ],
   "source": [
    "N = df.shape[0]\n",
    "sum_x = sum(df['Education'])\n",
    "sum_x2 = sum(df['Education']**2)\n",
    "bar_x = sum_x/N\n",
    "\n",
    "sum_y = sum(df['Income'])\n",
    "sum_xy = sum(df['Income'] * df['Education'])\n",
    "bar_y = sum_y/N\n",
    "\n",
    "beta_1 = (sum_xy - N*bar_x * bar_y)/(sum_x2 - N*bar_x**2)\n",
    "beta_0 = bar_y - beta_1*bar_x\n",
    "(beta_0, beta_1)"
   ]
  },
  {
   "cell_type": "markdown",
   "metadata": {},
   "source": [
    "These are the same coefficients we saw from the OLS function we used for the graph above, so we would expect the graph of the line to look the same:"
   ]
  },
  {
   "cell_type": "code",
   "execution_count": 6,
   "metadata": {},
   "outputs": [
    {
     "data": {
      "image/png": "[encoded data removed]",
      "text/plain": [
       "<matplotlib.figure.Figure at 0x107ef6250>"
      ]
     },
     "metadata": {},
     "output_type": "display_data"
    }
   ],
   "source": [
    "xs = np.arange(10, 22)\n",
    "# scatter-plot data\n",
    "ax = df.plot(x='Education', y='Income', kind='scatter')\n",
    "\n",
    "# plot regression line on the same axes, set x-axis limits\n",
    "ax.plot(xs, beta_0 + beta_1 * xs, color='red')\n",
    "ax.set_xlim([10, 22])\n",
    "plt.show()\n"
   ]
  },
  {
   "cell_type": "markdown",
   "metadata": {},
   "source": [
    "## Evaluating the Resulting Model\n",
    "We have shown how to calculate the simple model.  Now let's think about how we can tell if the model actually approximates the data.  This is necessary if we want to infer relationships in the data or to predict new values using the model.\n",
    "\n",
    "The model is designed to minimize the squared difference between the actual and the predicted values.  The difference between actual and predicted values is called the **Residuals**.  The sum of the residuals (usually symbolized by $RS$) in a good model will be close to zero, and the sum of the squared residuals ($RSS$) will also be small.  Since residuals can be negative, it's important to look at both $RS$ and $RSS$ because $RS$ may be near zero, but $RSS$ may be much larger.\n",
    "\n",
    "What are $RS$ and $RSS$ for our example?\n",
    "$$RS = \\sum_i^N(y_i - \\hat{y_i}),$$\n",
    "and \n",
    "$$RSS = \\sum_i^N(y_i - \\hat{y_i})^2.$$"
   ]
  },
  {
   "cell_type": "code",
   "execution_count": 7,
   "metadata": {},
   "outputs": [
    {
     "data": {
      "text/plain": [
       "(4.4053649617126212e-13, 1.9407240445885244e-25)"
      ]
     },
     "execution_count": 7,
     "metadata": {},
     "output_type": "execute_result"
    }
   ],
   "source": [
    "hat_f = lambda x:(beta_0 + beta_1*x)\n",
    "RS = sum(df['Income']-hat_f(df['Education']))\n",
    "RSS = sum(df['Income']-hat_f(df['Education']))**2\n",
    "(RS, RSS)"
   ]
  },
  {
   "cell_type": "markdown",
   "metadata": {},
   "source": [
    "These are exceptionally good results.  The usual statistical explanation for $RSS >> 0$ is that the variance of the residual for each data point is accounted for in the model.  The residuals should also be tested for their closeness to a normal distribution."
   ]
  },
  {
   "cell_type": "code",
   "execution_count": 10,
   "metadata": {},
   "outputs": [
    {
     "data": {
      "image/png": "[encoded data removed]",
      "text/plain": [
       "<matplotlib.figure.Figure at 0x10844fe90>"
      ]
     },
     "metadata": {},
     "output_type": "display_data"
    }
   ],
   "source": [
    "Residuals = df['Income']-df['Education'].apply(hat_f)\n",
    "\n",
    "plt.hist(Residuals, bins=10)\n",
    "plt.show()"
   ]
  },
  {
   "cell_type": "markdown",
   "metadata": {},
   "source": [
    "If you squint your eyes and imagine more data, there is a definite tendency toward normal distribution.  We can (and should!) test this further."
   ]
  },
  {
   "cell_type": "markdown",
   "metadata": {},
   "source": [
    "### Does This Model Fit the Data?\n",
    "Let's retreat from $RSS$ for a while and look at the parameters of $\\hat{f}$ that are estimated by the method above.  As with our estimate for $f$, estimates for $\\beta_0$ and $\\beta_1$ are not the *actual* values for the parameters.  We can think instead of the $\\beta_i$ parameters as **random variables**.  Random variables are any quantity that can take more than one value, but usually with respect to some probability distribution.  So for some random variable $X$ we can expect that the there is some mean and variance among possible values for $X$.\n",
    "\n",
    "For the $\\beta$ parameters, we have calculated the sample mean using the method described above, but what is the variance according the data?\n",
    "\n",
    "We use a concept called **Standard Error** (SE) to talk about the quality of these calculated parameters we are using to calculate income with respect to years of education.    The standard error is a measure of the uncertainty of our estimates for the $\\beta$ parameters."
   ]
  },
  {
   "cell_type": "markdown",
   "metadata": {},
   "source": [
    "Squared standard error is calculated for each $\\beta$ like this:\n",
    "\n",
    "$$SE(\\beta_0)^2 = \\sigma^2\\left\\{\\frac{1}{N} + \\frac{\\bar{x}^2}{\\sum_i^N(x_i - \\bar{x})^2}\\right\\},$$\n",
    "and,\n",
    "$$SE(\\beta_1)^2 = \\frac{\\sigma^2}{\\sum_i^N(x_i - \\bar{x})^2}.$$\n"
   ]
  },
  {
   "cell_type": "markdown",
   "metadata": {},
   "source": [
    "where $\\sigma^2$ is the variance of the actual (unknown) error, $Var(\\epsilon).$  We can estimate $\\sigma$ using the *Residual Squared Error* ($RSE$) calculated as:\n",
    "\n",
    "$$RSE = \\sqrt{\\frac{RSS}{n-2}}.$$"
   ]
  },
  {
   "cell_type": "markdown",
   "metadata": {
    "collapsed": true
   },
   "source": [
    "The standard error ($SE$) helps us estimate an important statistic: *What is the likelihood of finding the estimated $\\beta$ in the interval $[2SE(\\beta) \\pm \\beta]?$*  This calculation gives us a **Confidence Interval** for the coefficients of the model.  "
   ]
  }
 ],
 "metadata": {
  "kernelspec": {
   "display_name": "Python 2",
   "language": "python",
   "name": "python2"
  },
  "language_info": {
   "codemirror_mode": {
    "name": "ipython",
    "version": 2
   },
   "file_extension": ".py",
   "mimetype": "text/x-python",
   "name": "python",
   "nbconvert_exporter": "python",
   "pygments_lexer": "ipython2",
   "version": "2.7.13"
  }
 },
 "nbformat": 4,
 "nbformat_minor": 2
}
