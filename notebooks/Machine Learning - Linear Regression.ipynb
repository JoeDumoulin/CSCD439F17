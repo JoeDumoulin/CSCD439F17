{
 "cells": [
  {
   "cell_type": "markdown",
   "metadata": {},
   "source": [
    "These notebooks are a transcription of my notes from andrew Ng's fantastic coursera lectures on Machine Learning.  you can watch these lectures on [Youtube](http://www.youtube.com/watch?v=hxmEUAgfZFw&list=PLriTQ1p6fMW9Kvh48fJTUaBe83hMS-NPN).\n",
    "\n",
    "This notebook goes over a solution to the __linear regression__ problem in the course. "
   ]
  },
  {
   "cell_type": "markdown",
   "metadata": {},
   "source": [
    "Linear regression is a relatively simple problem with an analytic solution (which is included at the end of this page).  The iterative solution to linear regression is a good illustration of methods that are important to classification methods, even though linear regression (and regression in general) is a prediction tool.\n",
    "\n",
    "\n"
   ]
  },
  {
   "cell_type": "markdown",
   "metadata": {},
   "source": [
    "## Linear Regression in One Variable"
   ]
  },
  {
   "cell_type": "markdown",
   "metadata": {},
   "source": [
    "To see what types of problems we can solve with linear regression, imagine that we want to predict the profit from selling food off a food truck in some city.  We could try to predict the profit for a city by looking at other cities and truck profits in those cities.  "
   ]
  },
  {
   "cell_type": "markdown",
   "metadata": {},
   "source": [
    "In the data set loaded below, the first column is the population of a city and the second column is the profit of a food truck in that city.  The assumption is that we can predict profits from a food truck is any city if we know the population of that city.  In linear regression, we calculate the coefficients of a linear equation where if we know $x$ (the population) we can calculate $y$ (the profit of our food truck)."
   ]
  },
  {
   "cell_type": "code",
   "execution_count": 2,
   "metadata": {},
   "outputs": [
    {
     "data": {
      "text/plain": [
       "array([[  6.1101,  17.592 ],\n",
       "       [  5.5277,   9.1302],\n",
       "       [  8.5186,  13.662 ],\n",
       "       [  7.0032,  11.854 ],\n",
       "       [  5.8598,   6.8233],\n",
       "       [  8.3829,  11.886 ],\n",
       "       [  7.4764,   4.3483],\n",
       "       [  8.5781,  12.    ],\n",
       "       [  6.4862,   6.5987]])"
      ]
     },
     "execution_count": 2,
     "metadata": {},
     "output_type": "execute_result"
    }
   ],
   "source": [
    "import numpy as np\n",
    "a = np.loadtxt('ex1data1.txt', delimiter=',')\n",
    "a[0:9,:]"
   ]
  },
  {
   "cell_type": "markdown",
   "metadata": {},
   "source": [
    "each column is a different axis. "
   ]
  },
  {
   "cell_type": "code",
   "execution_count": 3,
   "metadata": {},
   "outputs": [],
   "source": [
    "x = a[:,0]\n",
    "y = a[:,1]\n",
    "\n",
    "m = x.size"
   ]
  },
  {
   "cell_type": "markdown",
   "metadata": {},
   "source": [
    "We can graph the values and see how the data is distributed"
   ]
  },
  {
   "cell_type": "code",
   "execution_count": 4,
   "metadata": {},
   "outputs": [
    {
     "name": "stdout",
     "output_type": "stream",
     "text": [
      "Populating the interactive namespace from numpy and matplotlib\n"
     ]
    }
   ],
   "source": [
    "%pylab inline"
   ]
  },
  {
   "cell_type": "code",
   "execution_count": 5,
   "metadata": {},
   "outputs": [
    {
     "data": {
      "image/png": "[encoded data removed]",
      "text/plain": [
       "<matplotlib.figure.Figure at 0x7f9529105160>"
      ]
     },
     "metadata": {},
     "output_type": "display_data"
    }
   ],
   "source": [
    "plot(x,y,'ro')\n",
    "title('city population vs. profit for food truck')\n",
    "xlabel('population (000)')\n",
    "ylabel('profit')\n",
    "show()"
   ]
  },
  {
   "cell_type": "markdown",
   "metadata": {},
   "source": [
    "To map the data to something we can use for prediction, we want to come up with a linear function to describe this data.  We call this function the __hypothesis__:\n",
    "\n",
    "<center>$h(x) = \\theta^T x = \\theta_0 + \\theta_1 x_1$,</center>\n",
    "\n",
    "where the vector $\\theta$ comprises the coefficients of $h(x)$.  The primary task of linear regression is to calculate these coefficients by examining the data.\n"
   ]
  },
  {
   "cell_type": "code",
   "execution_count": 6,
   "metadata": {},
   "outputs": [],
   "source": [
    "# given theta and x, calculate a linear hypothesis for y.\n",
    "# theta is a 2 x 1 row vector and x is a 2 x m matrix\n",
    "# the hypothesis h_\\theta(x) is a m x 1 row vector\n",
    "def hypothesis(theta, x):\n",
    "    return dot(theta, x.T)"
   ]
  },
  {
   "cell_type": "markdown",
   "metadata": {},
   "source": [
    "We can start by guessing a value for $\\theta$, calculating $h(x)$, and then comparing the result with the real value $y$.  We compare these two values for each data point using the __sum of squared errors__: $\\sum^m_{i=1}(h_{\\theta}(x^i)-y^i)^2$ where $i$ is the index of the datapoint.\n",
    "\n"
   ]
  },
  {
   "cell_type": "code",
   "execution_count": 7,
   "metadata": {},
   "outputs": [],
   "source": [
    "# expand x to have a bias multiplier of 1 for \n",
    "# each data point (this is multiplied by theta_0, the bias term\n",
    "x = vstack((ones((m), dtype=float64), x)).T\n",
    "\n",
    "# initial guess for theta is all 1s.  It could be anything.\n",
    "theta = np.array([[1.0,1.0]])"
   ]
  },
  {
   "cell_type": "markdown",
   "metadata": {},
   "source": [
    "We put the calculation of the sum of squared errors into a fuction of $\\theta$ called the __cost function__:\n",
    "\n",
    "<center>$J(\\theta) = \\frac{1}{2m}\\sum^m_{i=1}(h_{\\theta}(x^i)-y^i)^2$.</center>"
   ]
  },
  {
   "cell_type": "code",
   "execution_count": 8,
   "metadata": {},
   "outputs": [
    {
     "data": {
      "text/plain": [
       "10.266520491383504"
      ]
     },
     "execution_count": 8,
     "metadata": {},
     "output_type": "execute_result"
    }
   ],
   "source": [
    "def J(theta, x, y, m):\n",
    "    return (1.0/float(2*m)*sum((hypothesis(theta, x) - y)**2))\n",
    "\n",
    "J(theta,x,y,m)"
   ]
  },
  {
   "cell_type": "markdown",
   "metadata": {},
   "source": [
    "With $\\theta$ set to all ones, the squared error cost is around 5.13.  we can plot the line on the data to see how well they line up:"
   ]
  },
  {
   "cell_type": "code",
   "execution_count": 14,
   "metadata": {},
   "outputs": [
    {
     "data": {
      "image/png": "[encoded data removed]",
      "text/plain": [
       "<matplotlib.figure.Figure at 0x7f9526caea20>"
      ]
     },
     "metadata": {},
     "output_type": "display_data"
    }
   ],
   "source": [
    "x1 = x[:,1]\n",
    "f = list(map(lambda x: hypothesis(theta, x), x))\n",
    "plot(x1,y,'ro')\n",
    "plot(x1,f, 'g')\n",
    "title('city population vs. profit for food truck: first guess')\n",
    "xlabel('population (X 10,000)')\n",
    "ylabel('profit (x $10,000)')\n",
    "show()"
   ]
  },
  {
   "cell_type": "markdown",
   "metadata": {},
   "source": [
    "Our first guess isn't so good, but here we can possibly see the key insight to linear regression. When we have a well-fitting line, the error distance between the line and the known y values is minimized.  We can minimize the cost function result to acheive this.  And the cost function can be minimized using a gradient of the cost function.\n",
    "\n",
    "For the one-dimensional system in our example, the gradient is given by:\n",
    "\n",
    "<center>$\\Delta J_j = \\frac{1}{m}\\sum^m_{i=1}(h_\\theta(x^{(i)})-y^{(i)})x^{(i)}_j$</center>\n",
    "\n"
   ]
  },
  {
   "cell_type": "code",
   "execution_count": 16,
   "metadata": {},
   "outputs": [
    {
     "data": {
      "text/plain": [
       "array([[  3.32066495,  24.23489308]])"
      ]
     },
     "execution_count": 16,
     "metadata": {},
     "output_type": "execute_result"
    }
   ],
   "source": [
    "def grad_J(theta, x, y, m):\n",
    "    h = hypothesis(theta, x)\n",
    "    return (1.0/float(m))*dot((h - y),x)\n",
    "\n",
    "grad_J(theta, x, y, m)\n",
    "#sum((h - y)*x[:,1])\n",
    "#dot((h - y),x)"
   ]
  },
  {
   "cell_type": "markdown",
   "metadata": {},
   "source": [
    "now we can iterate to a new value of $\\theta$ by subtracting a fraction of the gradient from the previous guess for $\\theta$.  \n",
    "\n",
    "<center>$\\theta_{j+1} := \\theta_j - \\alpha\\frac{1}{m}\\sum^m_{i-1}(h_\\theta(x^{(i)})-y^{(i)})x^{(i)}_j$</center>\n",
    "\n",
    "In this way we can follow the curve of the cost function as the vector $\\theta$ changes.  We should converge on the $\\theta$ value that minimizes the cost function.  The parameter $\\alpha$ is a multiplier that controls the size of the change to theta.  "
   ]
  },
  {
   "cell_type": "code",
   "execution_count": 17,
   "metadata": {},
   "outputs": [
    {
     "data": {
      "text/plain": [
       "array([[ 0.96679335,  0.75765107]])"
      ]
     },
     "execution_count": 17,
     "metadata": {},
     "output_type": "execute_result"
    }
   ],
   "source": [
    "def update_theta(alpha, theta, x, y, m):\n",
    "    return theta - alpha*grad_J(theta, x, y, m)\n",
    "\n",
    "update_theta(0.01,theta,x,y,m)"
   ]
  },
  {
   "cell_type": "markdown",
   "metadata": {},
   "source": [
    "Now we can plot the linear function produced by the new theta value and see the difference."
   ]
  },
  {
   "cell_type": "code",
   "execution_count": 20,
   "metadata": {},
   "outputs": [
    {
     "data": {
      "image/png": "[encoded data removed]",
      "text/plain": [
       "<matplotlib.figure.Figure at 0x7f9526bb1668>"
      ]
     },
     "metadata": {},
     "output_type": "display_data"
    }
   ],
   "source": [
    "x1 = x[:,1]\n",
    "f = list(map(lambda x: hypothesis(theta, x), x))\n",
    "theta_new = update_theta(0.01,theta,x,y,m)\n",
    "f_new = list(map(lambda x: hypothesis(theta_new, x), x))\n",
    "plot(x1,y,'ro')\n",
    "plot(x1,f, 'g')\n",
    "plot(x1,f_new, 'b')\n",
    "title('city population vs. profit for food truck: first iteration')\n",
    "xlabel('population (X 10,000)')\n",
    "ylabel('profit (x $10,000)')\n",
    "show()"
   ]
  },
  {
   "cell_type": "markdown",
   "metadata": {},
   "source": [
    "And the new cost is:"
   ]
  },
  {
   "cell_type": "code",
   "execution_count": 22,
   "metadata": {},
   "outputs": [
    {
     "data": {
      "text/plain": [
       "6.739719084269546"
      ]
     },
     "execution_count": 22,
     "metadata": {},
     "output_type": "execute_result"
    }
   ],
   "source": [
    "J(theta_new, x, y, m)"
   ]
  },
  {
   "cell_type": "markdown",
   "metadata": {},
   "source": [
    "In order to get a line that best estimates the data, we need to iterate through the above calculations until the line converges on the minimum squared error approximation.  "
   ]
  },
  {
   "cell_type": "code",
   "execution_count": 24,
   "metadata": {},
   "outputs": [],
   "source": [
    "def linear_regression_solve(iterations, alpha, x, y, theta):\n",
    "    m = y.size\n",
    "    for i in range(iterations):\n",
    "        theta = update_theta(alpha,theta,x,y,m)\n",
    "        yield J(theta, x, y, m), theta\n",
    "    \n",
    "iterations = 1500\n",
    "alpha = 0.01\n",
    "results = [j for j in linear_regression_solve(iterations, alpha, x, y, theta)]"
   ]
  },
  {
   "cell_type": "markdown",
   "metadata": {},
   "source": [
    "For each iteration we record the cost value calculation and then graph it when we reach the end of our iterations."
   ]
  },
  {
   "cell_type": "code",
   "execution_count": 25,
   "metadata": {},
   "outputs": [
    {
     "data": {
      "image/png": "[encoded data removed]",
      "text/plain": [
       "<matplotlib.figure.Figure at 0x7f9526c04a58>"
      ]
     },
     "metadata": {},
     "output_type": "display_data"
    }
   ],
   "source": [
    "[J_history, thetas] = map(list, zip(*results))\n",
    "plot([i for i in range(iterations)], J_history, 'g')\n",
    "title('Cost versus iterations for linear regression')\n",
    "xlabel('iteration')\n",
    "ylabel('Cost')\n",
    "show()"
   ]
  },
  {
   "cell_type": "markdown",
   "metadata": {},
   "source": [
    "Now we can plot the final linear approximation by getting the last $\\theta$ produced in the iteration step and plotting it on the data."
   ]
  },
  {
   "cell_type": "code",
   "execution_count": 29,
   "metadata": {},
   "outputs": [
    {
     "data": {
      "image/png": "[encoded data removed]",
      "text/plain": [
       "<matplotlib.figure.Figure at 0x7f95293b1eb8>"
      ]
     },
     "metadata": {},
     "output_type": "display_data"
    }
   ],
   "source": [
    "x1 = x[:,1]\n",
    "t = thetas[-1]\n",
    "f = list(map(lambda x: hypothesis(t, x), x))\n",
    "plot(x1,y,'ro')\n",
    "plot(x1,f, 'g')\n",
    "title('city population vs. profit for food truck: final approximation')\n",
    "xlabel('population (X 10,000)')\n",
    "ylabel('profit (x $10,000)')\n",
    "show()"
   ]
  },
  {
   "cell_type": "markdown",
   "metadata": {},
   "source": [
    "We can now use the new linear function to predict profits in cities that are not in our data set: $h_\\theta(x) = \\theta^Tx$, where $x = [1.0, population]$.\n",
    "\n",
    "So if we wanted to know the expected profit in a city with 1,000,000 people, the answer would be:"
   ]
  },
  {
   "cell_type": "code",
   "execution_count": 30,
   "metadata": {},
   "outputs": [
    {
     "data": {
      "text/plain": [
       "array([[ 1160384.16310498]])"
      ]
     },
     "execution_count": 30,
     "metadata": {},
     "output_type": "execute_result"
    }
   ],
   "source": [
    "hypothesis(t, array([[1, 1000000]]))"
   ]
  },
  {
   "cell_type": "markdown",
   "metadata": {},
   "source": [
    "The simple, contrived example above tells us that we could expect to make over $1,000,000 in a city of 1 million people.  Of course, there may be other factors influencing profit and there are probably a number of other potentially nonlinear relationships that we would have to take into account to have a 'better' rediction.  This simple example should convey the idea of a linear regression in one dimension."
   ]
  },
  {
   "cell_type": "markdown",
   "metadata": {},
   "source": [
    "## Linear Regression in Muliple Variables"
   ]
  },
  {
   "cell_type": "markdown",
   "metadata": {},
   "source": [
    "To understand multidimensional linear regression, let's look at another example.  Think about how one might go about trying to predict the selling price of a house.  What we would like to do is use some properties of the house to determine the price.  A linear regression approach would use the properties of actual sold houses to predict the selling prices of other houses.\n",
    "\n",
    "The first task is to try to come up with some properties to use. we will use two properties:  __the square ft.  floor space__ of the house, __the number of rooms__.  There are many other features we can use, but these features can illustrate how multiple features can be used to get predictions."
   ]
  },
  {
   "cell_type": "code",
   "execution_count": 31,
   "metadata": {},
   "outputs": [
    {
     "data": {
      "text/plain": [
       "array([[  2.10400000e+03,   3.00000000e+00],\n",
       "       [  1.60000000e+03,   3.00000000e+00],\n",
       "       [  2.40000000e+03,   3.00000000e+00],\n",
       "       [  1.41600000e+03,   2.00000000e+00],\n",
       "       [  3.00000000e+03,   4.00000000e+00],\n",
       "       [  1.98500000e+03,   4.00000000e+00],\n",
       "       [  1.53400000e+03,   3.00000000e+00],\n",
       "       [  1.42700000e+03,   3.00000000e+00],\n",
       "       [  1.38000000e+03,   3.00000000e+00],\n",
       "       [  1.49400000e+03,   3.00000000e+00]])"
      ]
     },
     "execution_count": 31,
     "metadata": {},
     "output_type": "execute_result"
    }
   ],
   "source": [
    "a = np.loadtxt('ex1data2.txt', delimiter=',')\n",
    "x = a[:, 0:2]\n",
    "y = a[:,2]\n",
    "x[0:10,:]"
   ]
  },
  {
   "cell_type": "markdown",
   "metadata": {},
   "source": [
    "The first important task to perform on this data is to __normalize__ the values so that these columns have a similar range of values (the ranges should be within an order of magnitude).  If we don't normalize the data,  then the columns with the greatest values will dominate the calculation of the linear regression.  Normalization lets each column have a similar influence on the result.\n",
    "\n",
    "We can normalize by subtracting by the mean of each column and then scale the result by dividing by the standard deviation."
   ]
  },
  {
   "cell_type": "code",
   "execution_count": 32,
   "metadata": {},
   "outputs": [
    {
     "data": {
      "text/plain": [
       "array([[ 0.13141542, -0.22609337],\n",
       "       [-0.5096407 , -0.22609337],\n",
       "       [ 0.5079087 , -0.22609337],\n",
       "       [-0.74367706, -1.5543919 ],\n",
       "       [ 1.27107075,  1.10220517],\n",
       "       [-0.01994505,  1.10220517],\n",
       "       [-0.59358852, -0.22609337],\n",
       "       [-0.72968575, -0.22609337],\n",
       "       [-0.78946678, -0.22609337],\n",
       "       [-0.64446599, -0.22609337]])"
      ]
     },
     "execution_count": 32,
     "metadata": {},
     "output_type": "execute_result"
    }
   ],
   "source": [
    "mu = mean(x,axis=0)\n",
    "sd = std(x,axis=0)\n",
    "\n",
    "x_norm = (x-mu)/sd\n",
    "x_norm[0:10,:]"
   ]
  },
  {
   "cell_type": "markdown",
   "metadata": {},
   "source": [
    "we also need to add the bias 'feature' to the x matrix as the zero element:"
   ]
  },
  {
   "cell_type": "code",
   "execution_count": 33,
   "metadata": {},
   "outputs": [],
   "source": [
    "m = y.size\n",
    "X = hstack((ones((m,1), dtype=float64),x_norm))\n",
    "theta = zeros((1,X.shape[1]),dtype=float64)\n",
    "iterations = 400\n",
    "results = [j for j in linear_regression_solve(iterations, alpha, X, y, theta)]"
   ]
  },
  {
   "cell_type": "code",
   "execution_count": 34,
   "metadata": {},
   "outputs": [
    {
     "data": {
      "image/png": "[encoded data removed]",
      "text/plain": [
       "<matplotlib.figure.Figure at 0x7f9526a71fd0>"
      ]
     },
     "metadata": {},
     "output_type": "display_data"
    }
   ],
   "source": [
    "[J_history, thetas] = map(list, zip(*results))\n",
    "plot([i for i in range(iterations)], J_history, 'g')\n",
    "title('Cost versus iterations for linear regression')\n",
    "xlabel('iteration')\n",
    "ylabel('Cost')\n",
    "show()"
   ]
  },
  {
   "cell_type": "code",
   "execution_count": 35,
   "metadata": {},
   "outputs": [
    {
     "data": {
      "text/plain": [
       "array([[ 334302.06399328,   99411.44947359,    3267.01285407]])"
      ]
     },
     "execution_count": 35,
     "metadata": {},
     "output_type": "execute_result"
    }
   ],
   "source": [
    "thetas[-1]"
   ]
  },
  {
   "cell_type": "markdown",
   "metadata": {},
   "source": [
    "before running the hypothesis on a new house, we need to get the data points and scale them just as we did the training set:"
   ]
  },
  {
   "cell_type": "code",
   "execution_count": 36,
   "metadata": {},
   "outputs": [
    {
     "data": {
      "text/plain": [
       "array([ 289221.54737122])"
      ]
     },
     "execution_count": 36,
     "metadata": {},
     "output_type": "execute_result"
    }
   ],
   "source": [
    "house = hstack((ones((1),dtype=float64),(array([1650.0, 3.0]) - mu)/sd))\n",
    "hypothesis(thetas[-1], house)"
   ]
  },
  {
   "cell_type": "markdown",
   "metadata": {},
   "source": [
    "So a house with three rooms and 1650 square feet would be expected to cost $289,221 according to our model."
   ]
  },
  {
   "cell_type": "markdown",
   "metadata": {},
   "source": [
    "## Selecting the Learning Rate $\\alpha$"
   ]
  },
  {
   "cell_type": "markdown",
   "metadata": {},
   "source": [
    "The learning rate $\\alpha$ controls the speed of convergence of the batch gradient algorithm.  for some values of $\\alpha$, the algorithm wwon't converge at all.  We can experiment with possible values and see the effect on convergence."
   ]
  },
  {
   "cell_type": "code",
   "execution_count": 37,
   "metadata": {},
   "outputs": [
    {
     "data": {
      "image/png": "[encoded data removed]",
      "text/plain": [
       "<matplotlib.figure.Figure at 0x7f9526b14390>"
      ]
     },
     "metadata": {},
     "output_type": "display_data"
    }
   ],
   "source": [
    "alphas = [0.3,0.1,0.03,0.01]\n",
    "c = ['r','g','b','purple']\n",
    "iterations = 400\n",
    "k = 0\n",
    "for a in alphas:\n",
    "    results = [j for j in linear_regression_solve(iterations, a, X, y, theta)]\n",
    "    [J_history, thetas] = map(list, zip(*results))\n",
    "    plot([i for i in range(iterations)], J_history, '%s' %c[k])\n",
    "    k += 1\n",
    "title('Cost versus iterations for linear regression')\n",
    "xlabel('iteration')\n",
    "ylabel('Cost')\n",
    "legend_text = 'alpha ='\n",
    "legend(('%s%s' %(legend_text,alphas[0]),'%s%s' %(legend_text,alphas[1]),\n",
    "        '%s%s' %(legend_text,alphas[2]),'%s%s' %(legend_text,alphas[3])),loc='best')\n",
    "show()"
   ]
  },
  {
   "cell_type": "markdown",
   "metadata": {},
   "source": [
    "## Normal Equations"
   ]
  },
  {
   "cell_type": "markdown",
   "metadata": {},
   "source": [
    "There is an analytical solution for linear regression that solves for the linear function exactly. The analytical solution uses the so-called Normal Equations.  This is sometimes preferred though with a large number of parameters it can be very inefficient since the analytical solution requires a matrix inversion.  Matrix inversion can be a slow operation if the matrix is large.\n",
    "\n",
    "The normal equation solution for linear regression solves for $\\theta$ directly using the equation:\n",
    "\n",
    "<center>$\\theta = (X^TX)^{-1}X^T\\vec{y}$</center>\n",
    "\n",
    "Note that no feature scaling is needed with the analytic solution."
   ]
  },
  {
   "cell_type": "code",
   "execution_count": 38,
   "metadata": {},
   "outputs": [
    {
     "data": {
      "text/plain": [
       "array([ 89597.90954355,    139.21067402,  -8738.01911255])"
      ]
     },
     "execution_count": 38,
     "metadata": {},
     "output_type": "execute_result"
    }
   ],
   "source": [
    "m = y.size\n",
    "X = hstack((ones((m,1), dtype=float64),x))\n",
    "theta = zeros((1,X.shape[1]),dtype=float64)\n",
    "theta = dot(dot(pinv(dot(X.T,X)),X.T),y)\n",
    "theta"
   ]
  },
  {
   "cell_type": "markdown",
   "metadata": {},
   "source": [
    "Then we can see if the test house has the same predicted cost (it's not exactly the same because the solutions have some numerical differences due to the computer's capacity when working with floating point numbers)."
   ]
  },
  {
   "cell_type": "code",
   "execution_count": 39,
   "metadata": {},
   "outputs": [
    {
     "data": {
      "text/plain": [
       "293081.46433497168"
      ]
     },
     "execution_count": 39,
     "metadata": {},
     "output_type": "execute_result"
    }
   ],
   "source": [
    "house = hstack((ones((1),dtype=float64),(array([1650.0, 3.0]))))\n",
    "hypothesis(theta, house)"
   ]
  },
  {
   "cell_type": "markdown",
   "metadata": {},
   "source": [
    "## Other Types of Regression"
   ]
  },
  {
   "cell_type": "markdown",
   "metadata": {},
   "source": [
    "here weve explored how to learn linear parameters for prediction.  often we have data that better fits polynomial, logarithmic and other types of functions.  These can be accomodated by adding 'features' to the $X$ matrix.  for example, suppose I have a single data point in the $X$ matrix (plus the bias term of course).  I might want to use a quadratic function to estimate my hypothesis.  Then I would want my hypothesis $h_\\theta(x)$ to be quadratic.  \n",
    "\n",
    "<center>$h_\\theta(x) = \\theta_0 + \\theta_1x_1 + \\theta_2x_1^2$</center>\n",
    "\n",
    "we can set $x_2 = x_1^2$ and then we have the regular linear hypothesis\n",
    "\n",
    "<center>$h_\\theta(x) = \\theta_0 + \\theta_1x_1 + \\theta_2x_2$</center>\n",
    "\n",
    "When we train the regression to get the $\\theta$ values, we pre-calculate the X_2 values according to the above assignment, then we can use the same method for training as outlined in the previous sections."
   ]
  },
  {
   "cell_type": "code",
   "execution_count": null,
   "metadata": {},
   "outputs": [],
   "source": []
  }
 ],
 "metadata": {
  "kernelspec": {
   "display_name": "Python 3",
   "language": "python",
   "name": "python3"
  },
  "language_info": {
   "codemirror_mode": {
    "name": "ipython",
    "version": 3
   },
   "file_extension": ".py",
   "mimetype": "text/x-python",
   "name": "python",
   "nbconvert_exporter": "python",
   "pygments_lexer": "ipython3",
   "version": "3.5.2"
  }
 },
 "nbformat": 4,
 "nbformat_minor": 1
}
