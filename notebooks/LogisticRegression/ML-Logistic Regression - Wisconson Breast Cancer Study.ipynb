{
 "cells": [
  {
   "cell_type": "code",
   "execution_count": 18,
   "metadata": {},
   "outputs": [
    {
     "data": {
      "text/plain": [
       "Index(['id', 'diagnosis', 'radius_mean', 'texture_mean', 'perimeter_mean',\n",
       "       'area_mean', 'smoothness_mean', 'compactness_mean', 'concavity_mean',\n",
       "       'concave points_mean', 'symmetry_mean', 'fractal_dimension_mean',\n",
       "       'radius_se', 'texture_se', 'perimeter_se', 'area_se', 'smoothness_se',\n",
       "       'compactness_se', 'concavity_se', 'concave points_se', 'symmetry_se',\n",
       "       'fractal_dimension_se', 'radius_worst', 'texture_worst',\n",
       "       'perimeter_worst', 'area_worst', 'smoothness_worst',\n",
       "       'compactness_worst', 'concavity_worst', 'concave points_worst',\n",
       "       'symmetry_worst', 'fractal_dimension_worst', 'Unnamed: 32'],\n",
       "      dtype='object')"
      ]
     },
     "execution_count": 18,
     "metadata": {},
     "output_type": "execute_result"
    }
   ],
   "source": [
    "import pandas as pd\n",
    "import numpy as np\n",
    "import statsmodels.api as sm\n",
    "from patsy import dmatrices\n",
    "from sklearn.model_selection import train_test_split\n",
    "#from math import exp\n",
    "import matplotlib.pyplot as plt\n",
    "df = pd.read_csv('wisconsonbc.csv')\n",
    "df.columns"
   ]
  },
  {
   "cell_type": "code",
   "execution_count": 19,
   "metadata": {},
   "outputs": [
    {
     "data": {
      "text/plain": [
       "array(['M', 'B'], dtype=object)"
      ]
     },
     "execution_count": 19,
     "metadata": {},
     "output_type": "execute_result"
    }
   ],
   "source": [
    "#smaller dataframe\n",
    "df = df[['diagnosis', 'radius_mean', 'texture_mean']]\n",
    "\n",
    "# Diagnosis is Malignant of benign\n",
    "varray = df['diagnosis'].unique()\n",
    "varray"
   ]
  },
  {
   "cell_type": "code",
   "execution_count": 20,
   "metadata": {},
   "outputs": [
    {
     "data": {
      "text/html": [
       "<div>\n",
       "<style>\n",
       "    .dataframe thead tr:only-child th {\n",
       "        text-align: right;\n",
       "    }\n",
       "\n",
       "    .dataframe thead th {\n",
       "        text-align: left;\n",
       "    }\n",
       "\n",
       "    .dataframe tbody tr th {\n",
       "        vertical-align: top;\n",
       "    }\n",
       "</style>\n",
       "<table border=\"1\" class=\"dataframe\">\n",
       "  <thead>\n",
       "    <tr style=\"text-align: right;\">\n",
       "      <th></th>\n",
       "      <th>radius_mean</th>\n",
       "      <th>texture_mean</th>\n",
       "      <th>diagnosis_B</th>\n",
       "      <th>diagnosis_M</th>\n",
       "    </tr>\n",
       "  </thead>\n",
       "  <tbody>\n",
       "    <tr>\n",
       "      <th>0</th>\n",
       "      <td>17.99</td>\n",
       "      <td>10.38</td>\n",
       "      <td>0</td>\n",
       "      <td>1</td>\n",
       "    </tr>\n",
       "    <tr>\n",
       "      <th>1</th>\n",
       "      <td>20.57</td>\n",
       "      <td>17.77</td>\n",
       "      <td>0</td>\n",
       "      <td>1</td>\n",
       "    </tr>\n",
       "    <tr>\n",
       "      <th>2</th>\n",
       "      <td>19.69</td>\n",
       "      <td>21.25</td>\n",
       "      <td>0</td>\n",
       "      <td>1</td>\n",
       "    </tr>\n",
       "    <tr>\n",
       "      <th>3</th>\n",
       "      <td>11.42</td>\n",
       "      <td>20.38</td>\n",
       "      <td>0</td>\n",
       "      <td>1</td>\n",
       "    </tr>\n",
       "    <tr>\n",
       "      <th>4</th>\n",
       "      <td>20.29</td>\n",
       "      <td>14.34</td>\n",
       "      <td>0</td>\n",
       "      <td>1</td>\n",
       "    </tr>\n",
       "  </tbody>\n",
       "</table>\n",
       "</div>"
      ],
      "text/plain": [
       "   radius_mean  texture_mean  diagnosis_B  diagnosis_M\n",
       "0        17.99         10.38            0            1\n",
       "1        20.57         17.77            0            1\n",
       "2        19.69         21.25            0            1\n",
       "3        11.42         20.38            0            1\n",
       "4        20.29         14.34            0            1"
      ]
     },
     "execution_count": 20,
     "metadata": {},
     "output_type": "execute_result"
    }
   ],
   "source": [
    "# Make the diagnosis 1 if malignant and 0 if benign\n",
    "df = pd.get_dummies(df)\n",
    "df.head()"
   ]
  },
  {
   "cell_type": "code",
   "execution_count": 21,
   "metadata": {},
   "outputs": [
    {
     "name": "stdout",
     "output_type": "stream",
     "text": [
      "Optimization terminated successfully.\n",
      "         Current function value: 0.267530\n",
      "         Iterations 8\n"
     ]
    },
    {
     "data": {
      "text/html": [
       "<table class=\"simpletable\">\n",
       "<caption>Logit Regression Results</caption>\n",
       "<tr>\n",
       "  <th>Dep. Variable:</th>    <td>diagnosis_M</td>   <th>  No. Observations:  </th>  <td>   455</td>  \n",
       "</tr>\n",
       "<tr>\n",
       "  <th>Model:</th>               <td>Logit</td>      <th>  Df Residuals:      </th>  <td>   453</td>  \n",
       "</tr>\n",
       "<tr>\n",
       "  <th>Method:</th>               <td>MLE</td>       <th>  Df Model:          </th>  <td>     1</td>  \n",
       "</tr>\n",
       "<tr>\n",
       "  <th>Date:</th>          <td>Wed, 18 Oct 2017</td> <th>  Pseudo R-squ.:     </th>  <td>0.5952</td>  \n",
       "</tr>\n",
       "<tr>\n",
       "  <th>Time:</th>              <td>16:42:53</td>     <th>  Log-Likelihood:    </th> <td> -121.73</td> \n",
       "</tr>\n",
       "<tr>\n",
       "  <th>converged:</th>           <td>True</td>       <th>  LL-Null:           </th> <td> -300.69</td> \n",
       "</tr>\n",
       "<tr>\n",
       "  <th> </th>                      <td> </td>        <th>  LLR p-value:       </th> <td>7.957e-80</td>\n",
       "</tr>\n",
       "</table>\n",
       "<table class=\"simpletable\">\n",
       "<tr>\n",
       "       <td></td>          <th>coef</th>     <th>std err</th>      <th>z</th>      <th>P>|z|</th>  <th>[0.025</th>    <th>0.975]</th>  \n",
       "</tr>\n",
       "<tr>\n",
       "  <th>Intercept</th>   <td>  -16.1346</td> <td>    1.594</td> <td>  -10.120</td> <td> 0.000</td> <td>  -19.259</td> <td>  -13.010</td>\n",
       "</tr>\n",
       "<tr>\n",
       "  <th>radius_mean</th> <td>    1.0907</td> <td>    0.112</td> <td>    9.773</td> <td> 0.000</td> <td>    0.872</td> <td>    1.309</td>\n",
       "</tr>\n",
       "</table>"
      ],
      "text/plain": [
       "<class 'statsmodels.iolib.summary.Summary'>\n",
       "\"\"\"\n",
       "                           Logit Regression Results                           \n",
       "==============================================================================\n",
       "Dep. Variable:            diagnosis_M   No. Observations:                  455\n",
       "Model:                          Logit   Df Residuals:                      453\n",
       "Method:                           MLE   Df Model:                            1\n",
       "Date:                Wed, 18 Oct 2017   Pseudo R-squ.:                  0.5952\n",
       "Time:                        16:42:53   Log-Likelihood:                -121.73\n",
       "converged:                       True   LL-Null:                       -300.69\n",
       "                                        LLR p-value:                 7.957e-80\n",
       "===============================================================================\n",
       "                  coef    std err          z      P>|z|      [0.025      0.975]\n",
       "-------------------------------------------------------------------------------\n",
       "Intercept     -16.1346      1.594    -10.120      0.000     -19.259     -13.010\n",
       "radius_mean     1.0907      0.112      9.773      0.000       0.872       1.309\n",
       "===============================================================================\n",
       "\"\"\""
      ]
     },
     "execution_count": 21,
     "metadata": {},
     "output_type": "execute_result"
    }
   ],
   "source": [
    "# Use diagnosis_M for the response variable\n",
    "y,X = dmatrices('diagnosis_M ~ radius_mean', data=df, return_type='dataframe')\n",
    "X_train, X_test, y_train, y_test = train_test_split(X, y, test_size=0.2, random_state=1)\n",
    "model1 = sm.Logit(y_train, X_train).fit()\n",
    "model1.summary()"
   ]
  },
  {
   "cell_type": "code",
   "execution_count": 22,
   "metadata": {},
   "outputs": [],
   "source": [
    "# use the model coefficients to plot the curve to the data\n",
    "h = lambda x: 1/(1 + np.exp(-1*(model1.params[0] + model1.params[1]*x)))"
   ]
  },
  {
   "cell_type": "code",
   "execution_count": 23,
   "metadata": {},
   "outputs": [
    {
     "data": {
      "image/png": "[encoded data removed]",
      "text/plain": [
       "<matplotlib.figure.Figure at 0x7f7199f87d30>"
      ]
     },
     "metadata": {},
     "output_type": "display_data"
    }
   ],
   "source": [
    "# Show the logistic regression model\n",
    "import matplotlib.pyplot as plt\n",
    "\n",
    "fig = plt.figure()\n",
    "ax = fig.gca()\n",
    "ax.set_yticks(np.arange(0, 1., 0.1))\n",
    "\n",
    "plt.scatter(df['radius_mean'], df['diagnosis_M'], s = 0.5)\n",
    "xPlot = np.linspace(0, 30, 300)\n",
    "y_hat = h(xPlot)\n",
    "plt.plot(xPlot, y_hat)\n",
    "plt.grid()\n",
    "plt.show()"
   ]
  },
  {
   "cell_type": "code",
   "execution_count": 24,
   "metadata": {},
   "outputs": [
    {
     "name": "stdout",
     "output_type": "stream",
     "text": [
      "Optimization terminated successfully.\n",
      "         Current function value: 0.230679\n",
      "         Iterations 9\n"
     ]
    },
    {
     "data": {
      "text/html": [
       "<table class=\"simpletable\">\n",
       "<caption>Logit Regression Results</caption>\n",
       "<tr>\n",
       "  <th>Dep. Variable:</th>    <td>diagnosis_M</td>   <th>  No. Observations:  </th>  <td>   455</td>  \n",
       "</tr>\n",
       "<tr>\n",
       "  <th>Model:</th>               <td>Logit</td>      <th>  Df Residuals:      </th>  <td>   452</td>  \n",
       "</tr>\n",
       "<tr>\n",
       "  <th>Method:</th>               <td>MLE</td>       <th>  Df Model:          </th>  <td>     2</td>  \n",
       "</tr>\n",
       "<tr>\n",
       "  <th>Date:</th>          <td>Wed, 18 Oct 2017</td> <th>  Pseudo R-squ.:     </th>  <td>0.6509</td>  \n",
       "</tr>\n",
       "<tr>\n",
       "  <th>Time:</th>              <td>16:42:54</td>     <th>  Log-Likelihood:    </th> <td> -104.96</td> \n",
       "</tr>\n",
       "<tr>\n",
       "  <th>converged:</th>           <td>True</td>       <th>  LL-Null:           </th> <td> -300.69</td> \n",
       "</tr>\n",
       "<tr>\n",
       "  <th> </th>                      <td> </td>        <th>  LLR p-value:       </th> <td>9.884e-86</td>\n",
       "</tr>\n",
       "</table>\n",
       "<table class=\"simpletable\">\n",
       "<tr>\n",
       "        <td></td>          <th>coef</th>     <th>std err</th>      <th>z</th>      <th>P>|z|</th>  <th>[0.025</th>    <th>0.975]</th>  \n",
       "</tr>\n",
       "<tr>\n",
       "  <th>Intercept</th>    <td>  -21.6892</td> <td>    2.279</td> <td>   -9.518</td> <td> 0.000</td> <td>  -26.156</td> <td>  -17.223</td>\n",
       "</tr>\n",
       "<tr>\n",
       "  <th>radius_mean</th>  <td>    1.1516</td> <td>    0.129</td> <td>    8.951</td> <td> 0.000</td> <td>    0.899</td> <td>    1.404</td>\n",
       "</tr>\n",
       "<tr>\n",
       "  <th>texture_mean</th> <td>    0.2386</td> <td>    0.044</td> <td>    5.401</td> <td> 0.000</td> <td>    0.152</td> <td>    0.325</td>\n",
       "</tr>\n",
       "</table>"
      ],
      "text/plain": [
       "<class 'statsmodels.iolib.summary.Summary'>\n",
       "\"\"\"\n",
       "                           Logit Regression Results                           \n",
       "==============================================================================\n",
       "Dep. Variable:            diagnosis_M   No. Observations:                  455\n",
       "Model:                          Logit   Df Residuals:                      452\n",
       "Method:                           MLE   Df Model:                            2\n",
       "Date:                Wed, 18 Oct 2017   Pseudo R-squ.:                  0.6509\n",
       "Time:                        16:42:54   Log-Likelihood:                -104.96\n",
       "converged:                       True   LL-Null:                       -300.69\n",
       "                                        LLR p-value:                 9.884e-86\n",
       "================================================================================\n",
       "                   coef    std err          z      P>|z|      [0.025      0.975]\n",
       "--------------------------------------------------------------------------------\n",
       "Intercept      -21.6892      2.279     -9.518      0.000     -26.156     -17.223\n",
       "radius_mean      1.1516      0.129      8.951      0.000       0.899       1.404\n",
       "texture_mean     0.2386      0.044      5.401      0.000       0.152       0.325\n",
       "================================================================================\n",
       "\"\"\""
      ]
     },
     "execution_count": 24,
     "metadata": {},
     "output_type": "execute_result"
    }
   ],
   "source": [
    "# 2 predictors...\n",
    "y2,X2 = dmatrices('diagnosis_M ~ radius_mean + texture_mean', data=df, return_type='dataframe')\n",
    "X2_train, X2_test, y2_train, y2_test = train_test_split(X2, y2, test_size=0.2, random_state=1)\n",
    "model2 = sm.Logit(y2_train, X2_train).fit()\n",
    "model2.summary()"
   ]
  },
  {
   "cell_type": "code",
   "execution_count": 25,
   "metadata": {},
   "outputs": [
    {
     "data": {
      "image/png": "[encoded data removed]",
      "text/plain": [
       "<matplotlib.figure.Figure at 0x7f7199f77e48>"
      ]
     },
     "metadata": {},
     "output_type": "display_data"
    }
   ],
   "source": [
    "# plot the decision boundary\n",
    "cs = y2_train['diagnosis_M'].map({0:'b', 1:'r'})\n",
    "f,ax = plt.subplots()\n",
    "ax.scatter(X2_train['radius_mean'], X2_train['texture_mean'], color=cs, s=1, alpha=0.5)\n",
    "bxs = np.linspace(10, 20, 100)\n",
    "z = lambda x: -(model2.params[0] + model2.params[1]*x)/model2.params[2]  \n",
    "bys = z(bxs)\n",
    "#bys\n",
    "ax.plot(bxs, bys, color = 'black')\n",
    "ax.set_xlabel('radius_mean')\n",
    "ax.set_ylabel('texture_mean')\n",
    "ax.grid()\n",
    "plt.show()"
   ]
  },
  {
   "cell_type": "code",
   "execution_count": 26,
   "metadata": {},
   "outputs": [
    {
     "data": {
      "text/plain": [
       "array([[ 268.,   17.],\n",
       "       [  29.,  141.]])"
      ]
     },
     "execution_count": 26,
     "metadata": {},
     "output_type": "execute_result"
    }
   ],
   "source": [
    "# look for false positives and false negative statistics\n",
    "confusion = model2.pred_table()\n",
    "confusion"
   ]
  },
  {
   "cell_type": "code",
   "execution_count": 27,
   "metadata": {},
   "outputs": [
    {
     "data": {
      "text/plain": [
       "0.89890109890109893"
      ]
     },
     "execution_count": 27,
     "metadata": {},
     "output_type": "execute_result"
    }
   ],
   "source": [
    "accuracy = np.diag(confusion).sum()/confusion.sum()\n",
    "accuracy"
   ]
  },
  {
   "cell_type": "code",
   "execution_count": 28,
   "metadata": {},
   "outputs": [
    {
     "data": {
      "text/plain": [
       "(0.89240506329113922, 0.8294117647058824)"
      ]
     },
     "execution_count": 28,
     "metadata": {},
     "output_type": "execute_result"
    }
   ],
   "source": [
    "tp = confusion[1,1]\n",
    "fp = confusion[0,1]\n",
    "tn = confusion[0,0]\n",
    "fn = confusion[1,0]\n",
    "#precision\n",
    "precision = tp / (tp + fp)\n",
    "recall = tp / (tp + fn)\n",
    "precision, recall"
   ]
  },
  {
   "cell_type": "code",
   "execution_count": 29,
   "metadata": {},
   "outputs": [],
   "source": [
    "#plot precision, recall for different thresholds\n",
    "def pr(model,thresh):\n",
    "    c = model2.pred_table(threshold=thresh)\n",
    "    tp = confusion[1,1]\n",
    "    fp = confusion[0,1]\n",
    "    tn = confusion[0,0]\n",
    "    fn = confusion[1,0]\n",
    "    #precision\n",
    "    precision = tp / (tp + fp)\n",
    "    recall = tp / (tp + fn)\n",
    "    return precision, recall"
   ]
  },
  {
   "cell_type": "code",
   "execution_count": 30,
   "metadata": {},
   "outputs": [],
   "source": [
    "thresholds = np.arange(0.1, 0.9, .1)\n",
    "results = [pr(model2, t) for t in thresholds]\n"
   ]
  },
  {
   "cell_type": "code",
   "execution_count": null,
   "metadata": {},
   "outputs": [],
   "source": []
  },
  {
   "cell_type": "code",
   "execution_count": null,
   "metadata": {},
   "outputs": [],
   "source": []
  }
 ],
 "metadata": {
  "kernelspec": {
   "display_name": "Python 3",
   "language": "python",
   "name": "python3"
  },
  "language_info": {
   "codemirror_mode": {
    "name": "ipython",
    "version": 3
   },
   "file_extension": ".py",
   "mimetype": "text/x-python",
   "name": "python",
   "nbconvert_exporter": "python",
   "pygments_lexer": "ipython3",
   "version": "3.5.2"
  }
 },
 "nbformat": 4,
 "nbformat_minor": 2
}
