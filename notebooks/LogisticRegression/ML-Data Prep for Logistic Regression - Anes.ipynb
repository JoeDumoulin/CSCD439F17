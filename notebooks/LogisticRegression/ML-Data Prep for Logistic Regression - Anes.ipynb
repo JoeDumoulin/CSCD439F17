{
 "cells": [
  {
   "cell_type": "code",
   "execution_count": 105,
   "metadata": {},
   "outputs": [
    {
     "data": {
      "text/html": [
       "<div>\n",
       "<style>\n",
       "    .dataframe thead tr:only-child th {\n",
       "        text-align: right;\n",
       "    }\n",
       "\n",
       "    .dataframe thead th {\n",
       "        text-align: left;\n",
       "    }\n",
       "\n",
       "    .dataframe tbody tr th {\n",
       "        vertical-align: top;\n",
       "    }\n",
       "</style>\n",
       "<table border=\"1\" class=\"dataframe\">\n",
       "  <thead>\n",
       "    <tr style=\"text-align: right;\">\n",
       "      <th></th>\n",
       "      <th>year</th>\n",
       "      <th>resid</th>\n",
       "      <th>weight1</th>\n",
       "      <th>weight2</th>\n",
       "      <th>weight3</th>\n",
       "      <th>age</th>\n",
       "      <th>gender</th>\n",
       "      <th>race</th>\n",
       "      <th>educ1</th>\n",
       "      <th>urban</th>\n",
       "      <th>...</th>\n",
       "      <th>perfin1</th>\n",
       "      <th>perfin2</th>\n",
       "      <th>perfin</th>\n",
       "      <th>presadm</th>\n",
       "      <th>age_10</th>\n",
       "      <th>age_sq_10</th>\n",
       "      <th>newfathe</th>\n",
       "      <th>newmoth</th>\n",
       "      <th>parent_party</th>\n",
       "      <th>white</th>\n",
       "    </tr>\n",
       "  </thead>\n",
       "  <tbody>\n",
       "    <tr>\n",
       "      <th>0</th>\n",
       "      <td>1948.0</td>\n",
       "      <td>1001.0</td>\n",
       "      <td>1.0</td>\n",
       "      <td>1.0</td>\n",
       "      <td>1.0</td>\n",
       "      <td>NaN</td>\n",
       "      <td>1. male</td>\n",
       "      <td>1. white</td>\n",
       "      <td>1. grade school of less (0-8 grades)</td>\n",
       "      <td>NaN</td>\n",
       "      <td>...</td>\n",
       "      <td>NaN</td>\n",
       "      <td>NaN</td>\n",
       "      <td>NaN</td>\n",
       "      <td>-1.0</td>\n",
       "      <td>NaN</td>\n",
       "      <td>NaN</td>\n",
       "      <td>NaN</td>\n",
       "      <td>NaN</td>\n",
       "      <td>NaN</td>\n",
       "      <td>1.0</td>\n",
       "    </tr>\n",
       "    <tr>\n",
       "      <th>1</th>\n",
       "      <td>1948.0</td>\n",
       "      <td>1002.0</td>\n",
       "      <td>1.0</td>\n",
       "      <td>1.0</td>\n",
       "      <td>1.0</td>\n",
       "      <td>NaN</td>\n",
       "      <td>2. female</td>\n",
       "      <td>1. white</td>\n",
       "      <td>2. high school (12 grades or fewer, incl</td>\n",
       "      <td>NaN</td>\n",
       "      <td>...</td>\n",
       "      <td>NaN</td>\n",
       "      <td>NaN</td>\n",
       "      <td>NaN</td>\n",
       "      <td>-1.0</td>\n",
       "      <td>NaN</td>\n",
       "      <td>NaN</td>\n",
       "      <td>NaN</td>\n",
       "      <td>NaN</td>\n",
       "      <td>NaN</td>\n",
       "      <td>1.0</td>\n",
       "    </tr>\n",
       "    <tr>\n",
       "      <th>2</th>\n",
       "      <td>1948.0</td>\n",
       "      <td>1003.0</td>\n",
       "      <td>1.0</td>\n",
       "      <td>1.0</td>\n",
       "      <td>1.0</td>\n",
       "      <td>NaN</td>\n",
       "      <td>2. female</td>\n",
       "      <td>1. white</td>\n",
       "      <td>2. high school (12 grades or fewer, incl</td>\n",
       "      <td>NaN</td>\n",
       "      <td>...</td>\n",
       "      <td>NaN</td>\n",
       "      <td>NaN</td>\n",
       "      <td>NaN</td>\n",
       "      <td>-1.0</td>\n",
       "      <td>NaN</td>\n",
       "      <td>NaN</td>\n",
       "      <td>NaN</td>\n",
       "      <td>NaN</td>\n",
       "      <td>NaN</td>\n",
       "      <td>1.0</td>\n",
       "    </tr>\n",
       "    <tr>\n",
       "      <th>3</th>\n",
       "      <td>1948.0</td>\n",
       "      <td>1004.0</td>\n",
       "      <td>1.0</td>\n",
       "      <td>1.0</td>\n",
       "      <td>1.0</td>\n",
       "      <td>NaN</td>\n",
       "      <td>2. female</td>\n",
       "      <td>1. white</td>\n",
       "      <td>3. some college(13 grades or more,but no</td>\n",
       "      <td>NaN</td>\n",
       "      <td>...</td>\n",
       "      <td>NaN</td>\n",
       "      <td>NaN</td>\n",
       "      <td>NaN</td>\n",
       "      <td>-1.0</td>\n",
       "      <td>NaN</td>\n",
       "      <td>NaN</td>\n",
       "      <td>NaN</td>\n",
       "      <td>NaN</td>\n",
       "      <td>NaN</td>\n",
       "      <td>1.0</td>\n",
       "    </tr>\n",
       "    <tr>\n",
       "      <th>4</th>\n",
       "      <td>1948.0</td>\n",
       "      <td>1005.0</td>\n",
       "      <td>1.0</td>\n",
       "      <td>1.0</td>\n",
       "      <td>1.0</td>\n",
       "      <td>NaN</td>\n",
       "      <td>1. male</td>\n",
       "      <td>1. white</td>\n",
       "      <td>3. some college(13 grades or more,but no</td>\n",
       "      <td>NaN</td>\n",
       "      <td>...</td>\n",
       "      <td>NaN</td>\n",
       "      <td>NaN</td>\n",
       "      <td>NaN</td>\n",
       "      <td>-1.0</td>\n",
       "      <td>NaN</td>\n",
       "      <td>NaN</td>\n",
       "      <td>NaN</td>\n",
       "      <td>NaN</td>\n",
       "      <td>NaN</td>\n",
       "      <td>1.0</td>\n",
       "    </tr>\n",
       "  </tbody>\n",
       "</table>\n",
       "<p>5 rows × 62 columns</p>\n",
       "</div>"
      ],
      "text/plain": [
       "     year   resid  weight1  weight2  weight3  age     gender      race  \\\n",
       "0  1948.0  1001.0      1.0      1.0      1.0  NaN    1. male  1. white   \n",
       "1  1948.0  1002.0      1.0      1.0      1.0  NaN  2. female  1. white   \n",
       "2  1948.0  1003.0      1.0      1.0      1.0  NaN  2. female  1. white   \n",
       "3  1948.0  1004.0      1.0      1.0      1.0  NaN  2. female  1. white   \n",
       "4  1948.0  1005.0      1.0      1.0      1.0  NaN    1. male  1. white   \n",
       "\n",
       "                                      educ1 urban  ...  perfin1 perfin2  \\\n",
       "0      1. grade school of less (0-8 grades)   NaN  ...      NaN     NaN   \n",
       "1  2. high school (12 grades or fewer, incl   NaN  ...      NaN     NaN   \n",
       "2  2. high school (12 grades or fewer, incl   NaN  ...      NaN     NaN   \n",
       "3  3. some college(13 grades or more,but no   NaN  ...      NaN     NaN   \n",
       "4  3. some college(13 grades or more,but no   NaN  ...      NaN     NaN   \n",
       "\n",
       "  perfin presadm age_10 age_sq_10 newfathe newmoth parent_party white  \n",
       "0    NaN    -1.0    NaN       NaN      NaN     NaN          NaN   1.0  \n",
       "1    NaN    -1.0    NaN       NaN      NaN     NaN          NaN   1.0  \n",
       "2    NaN    -1.0    NaN       NaN      NaN     NaN          NaN   1.0  \n",
       "3    NaN    -1.0    NaN       NaN      NaN     NaN          NaN   1.0  \n",
       "4    NaN    -1.0    NaN       NaN      NaN     NaN          NaN   1.0  \n",
       "\n",
       "[5 rows x 62 columns]"
      ]
     },
     "execution_count": 105,
     "metadata": {},
     "output_type": "execute_result"
    }
   ],
   "source": [
    "import pandas as pd\n",
    "df = pd.read_stata('nes5200_processed_voters_realideo.dta')\n",
    "df.head()"
   ]
  },
  {
   "cell_type": "code",
   "execution_count": 106,
   "metadata": {},
   "outputs": [
    {
     "data": {
      "text/plain": [
       "Index(['year', 'resid', 'weight1', 'weight2', 'weight3', 'age', 'gender',\n",
       "       'race', 'educ1', 'urban', 'region', 'income', 'occup1', 'union',\n",
       "       'religion', 'educ2', 'educ3', 'martial_status', 'occup2', 'icpsr_cty',\n",
       "       'fips_cty', 'partyid7', 'partyid3', 'partyid3_b', 'str_partyid',\n",
       "       'father_party', 'mother_party', 'dlikes', 'rlikes', 'dem_therm',\n",
       "       'rep_therm', 'regis', 'vote', 'regisvote', 'presvote',\n",
       "       'presvote_2party', 'presvote_intent', 'ideo_feel', 'ideo7', 'ideo',\n",
       "       'cd', 'state', 'inter_pre', 'inter_post', 'black', 'female', 'age_sq',\n",
       "       'rep_presvote', 'rep_pres_intent', 'south', 'real_ideo', 'presapprov',\n",
       "       'perfin1', 'perfin2', 'perfin', 'presadm', 'age_10', 'age_sq_10',\n",
       "       'newfathe', 'newmoth', 'parent_party', 'white'],\n",
       "      dtype='object')"
      ]
     },
     "execution_count": 106,
     "metadata": {},
     "output_type": "execute_result"
    }
   ],
   "source": [
    "df.columns"
   ]
  },
  {
   "cell_type": "code",
   "execution_count": 107,
   "metadata": {},
   "outputs": [
    {
     "data": {
      "text/plain": [
       "array([ 1948.,  1952.,  1954.,  1956.,  1958.,  1960.,  1962.,  1964.,\n",
       "        1966.,  1968.,  1970.,  1972.,  1974.,  1976.,  1978.,  1980.,\n",
       "        1982.,  1984.,  1986.,  1988.,  1990.,  1992.,  1994.,  1996.,\n",
       "        1998.,  2000.,  2002.])"
      ]
     },
     "execution_count": 107,
     "metadata": {},
     "output_type": "execute_result"
    }
   ],
   "source": [
    "# Which years are included?\n",
    "df['year'].unique()"
   ]
  },
  {
   "cell_type": "code",
   "execution_count": 112,
   "metadata": {},
   "outputs": [
    {
     "data": {
      "text/plain": [
       "year                 0\n",
       "age                  0\n",
       "gender               0\n",
       "income             156\n",
       "vote               177\n",
       "presvote_intent     72\n",
       "dtype: int64"
      ]
     },
     "execution_count": 112,
     "metadata": {},
     "output_type": "execute_result"
    }
   ],
   "source": [
    "#let's do the rest with one specific year.\n",
    "df1992 = df[['year', 'age', 'gender', 'income', 'vote', 'presvote_intent']] \\\n",
    "    .loc[lambda df:df['year'] == 1992.0]\n",
    "\n",
    "## look for nulls\n",
    "df1992.isnull().sum(axis=0)"
   ]
  },
  {
   "cell_type": "code",
   "execution_count": 113,
   "metadata": {},
   "outputs": [
    {
     "data": {
      "text/plain": [
       "(1947, 6)"
      ]
     },
     "execution_count": 113,
     "metadata": {},
     "output_type": "execute_result"
    }
   ],
   "source": [
    "df1992.shape"
   ]
  },
  {
   "cell_type": "code",
   "execution_count": 114,
   "metadata": {},
   "outputs": [
    {
     "data": {
      "text/plain": [
       "((1591, 6),\n",
       "          year age     gender                  income           vote  \\\n",
       " 32092  1992.0  41  2. female  4. 68 to 95 percentile  2. yes, voted   \n",
       " 32093  1992.0  83  2. female  2. 17 to 33 percentile  2. yes, voted   \n",
       " 32095  1992.0  67  2. female   1. 0 to 16 percentile  2. yes, voted   \n",
       " 32096  1992.0  28    1. male  2. 17 to 33 percentile  2. yes, voted   \n",
       " 32097  1992.0  71  2. female  3. 34 to 67 percentile  2. yes, voted   \n",
       " \n",
       "                                 presvote_intent  \n",
       " 32092  2. republican candidate (with or without  \n",
       " 32093  2. republican candidate (with or without  \n",
       " 32095  1. democratic candidate (with or without  \n",
       " 32096  2. republican candidate (with or without  \n",
       " 32097  1. democratic candidate (with or without  )"
      ]
     },
     "execution_count": 114,
     "metadata": {},
     "output_type": "execute_result"
    }
   ],
   "source": [
    "# drop Nans\n",
    "df1992 = df1992.dropna(axis = 0)\n",
    "df1992.shape,df1992.head()"
   ]
  },
  {
   "cell_type": "code",
   "execution_count": 115,
   "metadata": {},
   "outputs": [
    {
     "data": {
      "text/plain": [
       "array([1, 0])"
      ]
     },
     "execution_count": 115,
     "metadata": {},
     "output_type": "execute_result"
    }
   ],
   "source": [
    "df1992['age_code'] = df1992['age'].astype(int)\n",
    "df1992['income_code'] = df1992['income'].str.extract('(\\d)', expand=False).astype(int)\n",
    "df1992['gender_code'] = df1992['gender'].str.extract('(\\d)', expand=False).astype(int)\n",
    "df1992['presvote_intent_code'] = df1992['presvote_intent'].str.extract('(\\d)', expand=False).astype(int).apply(lambda x: x-1)\n",
    "#drop voters not d or r\n",
    "df1992 = df1992.drop(df1992[df1992['presvote_intent_code'] > 1].index)\n",
    "df1992['presvote_intent_code'].unique()"
   ]
  },
  {
   "cell_type": "code",
   "execution_count": 116,
   "metadata": {},
   "outputs": [
    {
     "name": "stdout",
     "output_type": "stream",
     "text": [
      "Optimization terminated successfully.\n",
      "         Current function value: 0.663311\n",
      "         Iterations 5\n"
     ]
    },
    {
     "data": {
      "text/html": [
       "<table class=\"simpletable\">\n",
       "<caption>Logit Regression Results</caption>\n",
       "<tr>\n",
       "  <th>Dep. Variable:</th> <td>presvote_intent_code</td> <th>  No. Observations:  </th>  <td>  1138</td>  \n",
       "</tr>\n",
       "<tr>\n",
       "  <th>Model:</th>                 <td>Logit</td>        <th>  Df Residuals:      </th>  <td>  1136</td>  \n",
       "</tr>\n",
       "<tr>\n",
       "  <th>Method:</th>                 <td>MLE</td>         <th>  Df Model:          </th>  <td>     1</td>  \n",
       "</tr>\n",
       "<tr>\n",
       "  <th>Date:</th>            <td>Sun, 15 Oct 2017</td>   <th>  Pseudo R-squ.:     </th>  <td>0.01975</td> \n",
       "</tr>\n",
       "<tr>\n",
       "  <th>Time:</th>                <td>13:07:09</td>       <th>  Log-Likelihood:    </th> <td> -754.85</td> \n",
       "</tr>\n",
       "<tr>\n",
       "  <th>converged:</th>             <td>True</td>         <th>  LL-Null:           </th> <td> -770.05</td> \n",
       "</tr>\n",
       "<tr>\n",
       "  <th> </th>                        <td> </td>          <th>  LLR p-value:       </th> <td>3.497e-08</td>\n",
       "</tr>\n",
       "</table>\n",
       "<table class=\"simpletable\">\n",
       "<tr>\n",
       "       <td></td>          <th>coef</th>     <th>std err</th>      <th>z</th>      <th>P>|z|</th>  <th>[0.025</th>    <th>0.975]</th>  \n",
       "</tr>\n",
       "<tr>\n",
       "  <th>Intercept</th>   <td>   -1.2838</td> <td>    0.182</td> <td>   -7.037</td> <td> 0.000</td> <td>   -1.641</td> <td>   -0.926</td>\n",
       "</tr>\n",
       "<tr>\n",
       "  <th>income_code</th> <td>    0.3005</td> <td>    0.056</td> <td>    5.409</td> <td> 0.000</td> <td>    0.192</td> <td>    0.409</td>\n",
       "</tr>\n",
       "</table>"
      ],
      "text/plain": [
       "<class 'statsmodels.iolib.summary.Summary'>\n",
       "\"\"\"\n",
       "                            Logit Regression Results                            \n",
       "================================================================================\n",
       "Dep. Variable:     presvote_intent_code   No. Observations:                 1138\n",
       "Model:                            Logit   Df Residuals:                     1136\n",
       "Method:                             MLE   Df Model:                            1\n",
       "Date:                  Sun, 15 Oct 2017   Pseudo R-squ.:                 0.01975\n",
       "Time:                          13:07:09   Log-Likelihood:                -754.85\n",
       "converged:                         True   LL-Null:                       -770.05\n",
       "                                          LLR p-value:                 3.497e-08\n",
       "===============================================================================\n",
       "                  coef    std err          z      P>|z|      [0.025      0.975]\n",
       "-------------------------------------------------------------------------------\n",
       "Intercept      -1.2838      0.182     -7.037      0.000      -1.641      -0.926\n",
       "income_code     0.3005      0.056      5.409      0.000       0.192       0.409\n",
       "===============================================================================\n",
       "\"\"\""
      ]
     },
     "execution_count": 116,
     "metadata": {},
     "output_type": "execute_result"
    }
   ],
   "source": [
    "import statsmodels.api as sm\n",
    "import numpy as np\n",
    "from patsy import dmatrices\n",
    "from sklearn.model_selection import train_test_split\n",
    "import matplotlib.pyplot as plt\n",
    "\n",
    "y,X = dmatrices('presvote_intent_code ~ income_code', data=df1992, return_type='dataframe')\n",
    "X_train, X_test, y_train, y_test = train_test_split(X, y, test_size=0.2, random_state=1)\n",
    "model1 = sm.Logit(y_train, X_train).fit()\n",
    "model1.summary()"
   ]
  },
  {
   "cell_type": "code",
   "execution_count": 117,
   "metadata": {},
   "outputs": [
    {
     "name": "stdout",
     "output_type": "stream",
     "text": [
      "Optimization terminated successfully.\n",
      "         Current function value: 0.660772\n",
      "         Iterations 5\n"
     ]
    },
    {
     "data": {
      "text/html": [
       "<table class=\"simpletable\">\n",
       "<caption>Logit Regression Results</caption>\n",
       "<tr>\n",
       "  <th>Dep. Variable:</th> <td>presvote_intent_code</td> <th>  No. Observations:  </th>  <td>  1138</td>  \n",
       "</tr>\n",
       "<tr>\n",
       "  <th>Model:</th>                 <td>Logit</td>        <th>  Df Residuals:      </th>  <td>  1134</td>  \n",
       "</tr>\n",
       "<tr>\n",
       "  <th>Method:</th>                 <td>MLE</td>         <th>  Df Model:          </th>  <td>     3</td>  \n",
       "</tr>\n",
       "<tr>\n",
       "  <th>Date:</th>            <td>Sun, 15 Oct 2017</td>   <th>  Pseudo R-squ.:     </th>  <td>0.02350</td> \n",
       "</tr>\n",
       "<tr>\n",
       "  <th>Time:</th>                <td>13:07:48</td>       <th>  Log-Likelihood:    </th> <td> -751.96</td> \n",
       "</tr>\n",
       "<tr>\n",
       "  <th>converged:</th>             <td>True</td>         <th>  LL-Null:           </th> <td> -770.05</td> \n",
       "</tr>\n",
       "<tr>\n",
       "  <th> </th>                        <td> </td>          <th>  LLR p-value:       </th> <td>6.830e-08</td>\n",
       "</tr>\n",
       "</table>\n",
       "<table class=\"simpletable\">\n",
       "<tr>\n",
       "       <td></td>          <th>coef</th>     <th>std err</th>      <th>z</th>      <th>P>|z|</th>  <th>[0.025</th>    <th>0.975]</th>  \n",
       "</tr>\n",
       "<tr>\n",
       "  <th>Intercept</th>   <td>   -1.3589</td> <td>    0.334</td> <td>   -4.064</td> <td> 0.000</td> <td>   -2.014</td> <td>   -0.704</td>\n",
       "</tr>\n",
       "<tr>\n",
       "  <th>income_code</th> <td>    0.3093</td> <td>    0.057</td> <td>    5.442</td> <td> 0.000</td> <td>    0.198</td> <td>    0.421</td>\n",
       "</tr>\n",
       "<tr>\n",
       "  <th>gender_code</th> <td>   -0.1842</td> <td>    0.123</td> <td>   -1.493</td> <td> 0.135</td> <td>   -0.426</td> <td>    0.058</td>\n",
       "</tr>\n",
       "<tr>\n",
       "  <th>age_code</th>    <td>    0.0071</td> <td>    0.004</td> <td>    1.940</td> <td> 0.052</td> <td>-7.27e-05</td> <td>    0.014</td>\n",
       "</tr>\n",
       "</table>"
      ],
      "text/plain": [
       "<class 'statsmodels.iolib.summary.Summary'>\n",
       "\"\"\"\n",
       "                            Logit Regression Results                            \n",
       "================================================================================\n",
       "Dep. Variable:     presvote_intent_code   No. Observations:                 1138\n",
       "Model:                            Logit   Df Residuals:                     1134\n",
       "Method:                             MLE   Df Model:                            3\n",
       "Date:                  Sun, 15 Oct 2017   Pseudo R-squ.:                 0.02350\n",
       "Time:                          13:07:48   Log-Likelihood:                -751.96\n",
       "converged:                         True   LL-Null:                       -770.05\n",
       "                                          LLR p-value:                 6.830e-08\n",
       "===============================================================================\n",
       "                  coef    std err          z      P>|z|      [0.025      0.975]\n",
       "-------------------------------------------------------------------------------\n",
       "Intercept      -1.3589      0.334     -4.064      0.000      -2.014      -0.704\n",
       "income_code     0.3093      0.057      5.442      0.000       0.198       0.421\n",
       "gender_code    -0.1842      0.123     -1.493      0.135      -0.426       0.058\n",
       "age_code        0.0071      0.004      1.940      0.052   -7.27e-05       0.014\n",
       "===============================================================================\n",
       "\"\"\""
      ]
     },
     "execution_count": 117,
     "metadata": {},
     "output_type": "execute_result"
    }
   ],
   "source": [
    "y2,X2 = dmatrices('presvote_intent_code ~ income_code + gender_code + age_code', data=df1992, return_type='dataframe')\n",
    "X2_train, X2_test, y2_train, y2_test = train_test_split(X2, y2, test_size=0.2, random_state=1)\n",
    "model2 = sm.Logit(y2_train, X2_train).fit()\n",
    "model2.summary()"
   ]
  },
  {
   "cell_type": "code",
   "execution_count": null,
   "metadata": {},
   "outputs": [],
   "source": []
  }
 ],
 "metadata": {
  "kernelspec": {
   "display_name": "Python 3",
   "language": "python",
   "name": "python3"
  },
  "language_info": {
   "codemirror_mode": {
    "name": "ipython",
    "version": 3
   },
   "file_extension": ".py",
   "mimetype": "text/x-python",
   "name": "python",
   "nbconvert_exporter": "python",
   "pygments_lexer": "ipython3",
   "version": "3.5.2"
  }
 },
 "nbformat": 4,
 "nbformat_minor": 2
}
