{
 "cells": [
  {
   "cell_type": "markdown",
   "metadata": {},
   "source": [
    "In this notebok, we addapt the text categorization problem outlined in the [keras tutorial documentation](https://blog.keras.io/using-pre-trained-word-embeddings-in-a-keras-model.html).  We begin by simply changing the data source to be the input data to the data from the kaggle contest [Spooky Author Identification](https://www.kaggle.com/c/spooky-author-identification/kernels)."
   ]
  },
  {
   "cell_type": "code",
   "execution_count": 1,
   "metadata": {},
   "outputs": [
    {
     "name": "stderr",
     "output_type": "stream",
     "text": [
      "Using TensorFlow backend.\n"
     ]
    }
   ],
   "source": [
    "# Definitions\n",
    "\n",
    "from __future__ import print_function\n",
    "\n",
    "import os\n",
    "import sys\n",
    "import numpy as np\n",
    "from keras.preprocessing.text import Tokenizer\n",
    "from keras.preprocessing.sequence import pad_sequences\n",
    "from keras.utils import to_categorical\n",
    "from keras.layers import Dense, Input, GlobalMaxPooling1D\n",
    "from keras.layers import Conv1D, MaxPooling1D, Embedding\n",
    "from keras.models import Model\n",
    "\n",
    "\n",
    "BASE_DIR = '../data/'\n",
    "GLOVE_DIR = os.path.join(BASE_DIR, 'glove.6B')\n",
    "TEXT_DATA_DIR = os.path.join(BASE_DIR, 'SpookyData')\n",
    "MAX_SEQUENCE_LENGTH = 1000\n",
    "MAX_NB_WORDS = 20000\n",
    "EMBEDDING_DIM = 100\n",
    "VALIDATION_SPLIT = 0.2\n",
    "\n"
   ]
  },
  {
   "cell_type": "markdown",
   "metadata": {},
   "source": [
    "We need to get the data into a form where we can use it for training and prediction.  For that we use the pandas library."
   ]
  },
  {
   "cell_type": "code",
   "execution_count": 2,
   "metadata": {},
   "outputs": [
    {
     "data": {
      "text/html": [
       "<div>\n",
       "<style scoped>\n",
       "    .dataframe tbody tr th:only-of-type {\n",
       "        vertical-align: middle;\n",
       "    }\n",
       "\n",
       "    .dataframe tbody tr th {\n",
       "        vertical-align: top;\n",
       "    }\n",
       "\n",
       "    .dataframe thead th {\n",
       "        text-align: right;\n",
       "    }\n",
       "</style>\n",
       "<table border=\"1\" class=\"dataframe\">\n",
       "  <thead>\n",
       "    <tr style=\"text-align: right;\">\n",
       "      <th></th>\n",
       "      <th>id</th>\n",
       "      <th>text</th>\n",
       "      <th>author</th>\n",
       "    </tr>\n",
       "  </thead>\n",
       "  <tbody>\n",
       "    <tr>\n",
       "      <th>0</th>\n",
       "      <td>id26305</td>\n",
       "      <td>This process, however, afforded me no means of...</td>\n",
       "      <td>EAP</td>\n",
       "    </tr>\n",
       "    <tr>\n",
       "      <th>1</th>\n",
       "      <td>id17569</td>\n",
       "      <td>It never once occurred to me that the fumbling...</td>\n",
       "      <td>HPL</td>\n",
       "    </tr>\n",
       "    <tr>\n",
       "      <th>2</th>\n",
       "      <td>id11008</td>\n",
       "      <td>In his left hand was a gold snuff box, from wh...</td>\n",
       "      <td>EAP</td>\n",
       "    </tr>\n",
       "    <tr>\n",
       "      <th>3</th>\n",
       "      <td>id27763</td>\n",
       "      <td>How lovely is spring As we looked from Windsor...</td>\n",
       "      <td>MWS</td>\n",
       "    </tr>\n",
       "    <tr>\n",
       "      <th>4</th>\n",
       "      <td>id12958</td>\n",
       "      <td>Finding nothing else, not even gold, the Super...</td>\n",
       "      <td>HPL</td>\n",
       "    </tr>\n",
       "  </tbody>\n",
       "</table>\n",
       "</div>"
      ],
      "text/plain": [
       "        id                                               text author\n",
       "0  id26305  This process, however, afforded me no means of...    EAP\n",
       "1  id17569  It never once occurred to me that the fumbling...    HPL\n",
       "2  id11008  In his left hand was a gold snuff box, from wh...    EAP\n",
       "3  id27763  How lovely is spring As we looked from Windsor...    MWS\n",
       "4  id12958  Finding nothing else, not even gold, the Super...    HPL"
      ]
     },
     "execution_count": 2,
     "metadata": {},
     "output_type": "execute_result"
    }
   ],
   "source": [
    "import pandas as pd\n",
    "\n",
    "# read the training data\n",
    "df = pd.read_csv(os.path.join(TEXT_DATA_DIR, 'train.csv'))\n",
    "df.head()"
   ]
  },
  {
   "cell_type": "code",
   "execution_count": 3,
   "metadata": {},
   "outputs": [
    {
     "name": "stdout",
     "output_type": "stream",
     "text": [
      "{'EAP': 0, 'HPL': 1, 'MWS': 2}\n"
     ]
    },
    {
     "data": {
      "text/html": [
       "<div>\n",
       "<style scoped>\n",
       "    .dataframe tbody tr th:only-of-type {\n",
       "        vertical-align: middle;\n",
       "    }\n",
       "\n",
       "    .dataframe tbody tr th {\n",
       "        vertical-align: top;\n",
       "    }\n",
       "\n",
       "    .dataframe thead th {\n",
       "        text-align: right;\n",
       "    }\n",
       "</style>\n",
       "<table border=\"1\" class=\"dataframe\">\n",
       "  <thead>\n",
       "    <tr style=\"text-align: right;\">\n",
       "      <th></th>\n",
       "      <th>id</th>\n",
       "      <th>text</th>\n",
       "      <th>author</th>\n",
       "      <th>author_id</th>\n",
       "    </tr>\n",
       "  </thead>\n",
       "  <tbody>\n",
       "    <tr>\n",
       "      <th>0</th>\n",
       "      <td>id26305</td>\n",
       "      <td>This process, however, afforded me no means of...</td>\n",
       "      <td>EAP</td>\n",
       "      <td>0</td>\n",
       "    </tr>\n",
       "    <tr>\n",
       "      <th>1</th>\n",
       "      <td>id17569</td>\n",
       "      <td>It never once occurred to me that the fumbling...</td>\n",
       "      <td>HPL</td>\n",
       "      <td>1</td>\n",
       "    </tr>\n",
       "    <tr>\n",
       "      <th>2</th>\n",
       "      <td>id11008</td>\n",
       "      <td>In his left hand was a gold snuff box, from wh...</td>\n",
       "      <td>EAP</td>\n",
       "      <td>0</td>\n",
       "    </tr>\n",
       "    <tr>\n",
       "      <th>3</th>\n",
       "      <td>id27763</td>\n",
       "      <td>How lovely is spring As we looked from Windsor...</td>\n",
       "      <td>MWS</td>\n",
       "      <td>2</td>\n",
       "    </tr>\n",
       "    <tr>\n",
       "      <th>4</th>\n",
       "      <td>id12958</td>\n",
       "      <td>Finding nothing else, not even gold, the Super...</td>\n",
       "      <td>HPL</td>\n",
       "      <td>1</td>\n",
       "    </tr>\n",
       "  </tbody>\n",
       "</table>\n",
       "</div>"
      ],
      "text/plain": [
       "        id                                               text author  \\\n",
       "0  id26305  This process, however, afforded me no means of...    EAP   \n",
       "1  id17569  It never once occurred to me that the fumbling...    HPL   \n",
       "2  id11008  In his left hand was a gold snuff box, from wh...    EAP   \n",
       "3  id27763  How lovely is spring As we looked from Windsor...    MWS   \n",
       "4  id12958  Finding nothing else, not even gold, the Super...    HPL   \n",
       "\n",
       "   author_id  \n",
       "0          0  \n",
       "1          1  \n",
       "2          0  \n",
       "3          2  \n",
       "4          1  "
      ]
     },
     "execution_count": 3,
     "metadata": {},
     "output_type": "execute_result"
    }
   ],
   "source": [
    "# get a list of classifications and generate numeric \n",
    "#  values for each class.  put the numeric class back \n",
    "#  on to the data frame.\n",
    "authors = dict([(auth, idx) for idx, auth in enumerate(df['author'].unique())])\n",
    "print(authors)\n",
    "df['author_id'] = df['author'].apply(lambda x: authors[x])\n",
    "\n",
    "df.head()"
   ]
  },
  {
   "cell_type": "code",
   "execution_count": 4,
   "metadata": {},
   "outputs": [
    {
     "name": "stdout",
     "output_type": "stream",
     "text": [
      "19579\n",
      "[26, 2945, 143, 1372, 22, 36, 294, 2, 7451, 1, 2440, 2, 10, 4556, 16, 6, 79, 179, 48, 4245, 3, 295, 4, 1, 249, 1943, 6, 326, 74, 134, 123, 891, 2, 1, 313, 39, 1438, 4928, 98, 1, 430]\n",
      "Found 25943 unique tokens.\n",
      "Shape of data tensor: (19579, 1000)\n",
      "Shape of label tensor: (19579, 3)\n"
     ]
    }
   ],
   "source": [
    "# now we will use the text and author_id fields to train a classifier.\n",
    "#  We have to: \n",
    "#  1. Get the sentences, \n",
    "sents = df['text'].tolist()\n",
    "labels = df['author_id'].tolist()\n",
    "#  2. Tokenize each sentence, \n",
    "tokenizer = Tokenizer(num_words=MAX_NB_WORDS)\n",
    "tokenizer.fit_on_texts(sents)\n",
    "sequences = tokenizer.texts_to_sequences(sents)\n",
    "print(len(sequences))\n",
    "print(sequences[0])\n",
    "##    Get a vector of unique terms here\n",
    "word_index = tokenizer.word_index\n",
    "print('Found %s unique tokens.' % len(word_index))\n",
    "\n",
    "data = pad_sequences(sequences, maxlen=MAX_SEQUENCE_LENGTH)\n",
    "\n",
    "labels = to_categorical(np.asarray(labels))\n",
    "print('Shape of data tensor:', data.shape)\n",
    "print('Shape of label tensor:', labels.shape)\n",
    "\n",
    "# split the data into a training set and a validation set\n",
    "indices = np.arange(data.shape[0])\n",
    "np.random.shuffle(indices)\n",
    "data = data[indices]\n",
    "labels = labels[indices]\n",
    "num_validation_samples = int(VALIDATION_SPLIT * data.shape[0])\n",
    "\n",
    "x_train = data[:-num_validation_samples]\n",
    "y_train = labels[:-num_validation_samples]\n",
    "x_val = data[-num_validation_samples:]\n",
    "y_val = labels[-num_validation_samples:]\n"
   ]
  },
  {
   "cell_type": "code",
   "execution_count": 5,
   "metadata": {},
   "outputs": [
    {
     "name": "stdout",
     "output_type": "stream",
     "text": [
      "Found 400000 word vectors.\n"
     ]
    }
   ],
   "source": [
    "#  3. Load embeddings\n",
    "embeddings_index = {}\n",
    "f = open(os.path.join(GLOVE_DIR, 'glove.6B.100d.txt'))\n",
    "for line in f:\n",
    "    values = line.split()\n",
    "    word = values[0]\n",
    "    coefs = np.asarray(values[1:], dtype='float32')\n",
    "    embeddings_index[word] = coefs\n",
    "f.close()\n",
    "\n",
    "print('Found %s word vectors.' % len(embeddings_index))\n"
   ]
  },
  {
   "cell_type": "code",
   "execution_count": 6,
   "metadata": {},
   "outputs": [],
   "source": [
    "#  4. Create the Embedding matrix for the training set\n",
    "num_words = min(MAX_NB_WORDS, len(word_index))\n",
    "embedding_matrix = np.zeros((num_words, EMBEDDING_DIM))\n",
    "for word, i in word_index.items():\n",
    "    if i >= MAX_NB_WORDS:\n",
    "        continue\n",
    "    embedding_vector = embeddings_index.get(word)\n",
    "    if embedding_vector is not None:\n",
    "        # words not found in embedding index will be all-zeros.\n",
    "        embedding_matrix[i] = embedding_vector"
   ]
  },
  {
   "cell_type": "code",
   "execution_count": 7,
   "metadata": {},
   "outputs": [
    {
     "name": "stdout",
     "output_type": "stream",
     "text": [
      "Training model.\n"
     ]
    }
   ],
   "source": [
    "# load pre-trained word embeddings into an Embedding layer\n",
    "# note that we set trainable = False so as to keep the embeddings fixed\n",
    "embedding_layer = Embedding(num_words,\n",
    "                            EMBEDDING_DIM,\n",
    "                            weights=[embedding_matrix],\n",
    "                            input_length=MAX_SEQUENCE_LENGTH,\n",
    "                            trainable=False)\n",
    "\n",
    "print('Training model.')\n",
    "\n",
    "# train a 1D convnet with global maxpooling\n",
    "sequence_input = Input(shape=(MAX_SEQUENCE_LENGTH,), dtype='int32')\n",
    "embedded_sequences = embedding_layer(sequence_input)\n",
    "x = Conv1D(128, 5, activation='relu')(embedded_sequences)\n",
    "x = MaxPooling1D(5)(x)\n",
    "x = Conv1D(128, 5, activation='relu')(x)\n",
    "x = MaxPooling1D(5)(x)\n",
    "x = Conv1D(128, 5, activation='relu')(x)\n",
    "x = GlobalMaxPooling1D()(x)\n",
    "x = Dense(128, activation='relu')(x)\n",
    "preds = Dense(len(authors), activation='softmax')(x)\n",
    "\n",
    "model = Model(sequence_input, preds)\n",
    "model.compile(loss='categorical_crossentropy',\n",
    "              optimizer='rmsprop',\n",
    "              metrics=['acc'])"
   ]
  },
  {
   "cell_type": "code",
   "execution_count": 9,
   "metadata": {
    "scrolled": false
   },
   "outputs": [
    {
     "name": "stdout",
     "output_type": "stream",
     "text": [
      "Train on 15664 samples, validate on 3915 samples\n",
      "Epoch 1/50\n",
      "15664/15664 [==============================] - 2s 149us/step - loss: 0.2471 - acc: 0.9201 - val_loss: 1.0357 - val_acc: 0.6920\n",
      "Epoch 2/50\n",
      "15664/15664 [==============================] - 2s 145us/step - loss: 0.2033 - acc: 0.9398 - val_loss: 1.2421 - val_acc: 0.6792\n",
      "Epoch 3/50\n",
      "15664/15664 [==============================] - 2s 145us/step - loss: 0.1970 - acc: 0.9452 - val_loss: 1.2654 - val_acc: 0.6894\n",
      "Epoch 4/50\n",
      "15664/15664 [==============================] - 2s 145us/step - loss: 0.1973 - acc: 0.9526 - val_loss: 1.6247 - val_acc: 0.6519\n",
      "Epoch 5/50\n",
      "15664/15664 [==============================] - 2s 145us/step - loss: 0.1867 - acc: 0.9495 - val_loss: 1.3098 - val_acc: 0.6866\n",
      "Epoch 6/50\n",
      "15664/15664 [==============================] - 2s 150us/step - loss: 0.1438 - acc: 0.9595 - val_loss: 1.3783 - val_acc: 0.6810\n",
      "Epoch 7/50\n",
      "15664/15664 [==============================] - 2s 147us/step - loss: 0.1312 - acc: 0.9610 - val_loss: 1.4878 - val_acc: 0.6621\n",
      "Epoch 8/50\n",
      "15664/15664 [==============================] - 2s 147us/step - loss: 0.1302 - acc: 0.9672 - val_loss: 1.9247 - val_acc: 0.6386\n",
      "Epoch 9/50\n",
      "15664/15664 [==============================] - 2s 146us/step - loss: 0.1436 - acc: 0.9665 - val_loss: 1.6065 - val_acc: 0.6725\n",
      "Epoch 10/50\n",
      "15664/15664 [==============================] - 2s 146us/step - loss: 0.1381 - acc: 0.9702 - val_loss: 1.6071 - val_acc: 0.6833\n",
      "Epoch 11/50\n",
      "15664/15664 [==============================] - 2s 144us/step - loss: 0.1271 - acc: 0.9734 - val_loss: 1.8863 - val_acc: 0.6720\n",
      "Epoch 12/50\n",
      "15664/15664 [==============================] - 2s 147us/step - loss: 0.1127 - acc: 0.9765 - val_loss: 1.7219 - val_acc: 0.6623\n",
      "Epoch 13/50\n",
      "15664/15664 [==============================] - 2s 148us/step - loss: 0.1028 - acc: 0.9744 - val_loss: 1.6589 - val_acc: 0.6845\n",
      "Epoch 14/50\n",
      "15664/15664 [==============================] - 2s 147us/step - loss: 0.1044 - acc: 0.9791 - val_loss: 1.7629 - val_acc: 0.6759\n",
      "Epoch 15/50\n",
      "15664/15664 [==============================] - 2s 148us/step - loss: 0.1054 - acc: 0.9741 - val_loss: 1.5674 - val_acc: 0.6833\n",
      "Epoch 16/50\n",
      "15664/15664 [==============================] - 2s 146us/step - loss: 0.0840 - acc: 0.9777 - val_loss: 1.6885 - val_acc: 0.6695\n",
      "Epoch 17/50\n",
      "15664/15664 [==============================] - 2s 150us/step - loss: 0.0976 - acc: 0.9780 - val_loss: 1.9309 - val_acc: 0.6733\n",
      "Epoch 18/50\n",
      "15664/15664 [==============================] - 2s 147us/step - loss: 0.1009 - acc: 0.9802 - val_loss: 1.8444 - val_acc: 0.6741\n",
      "Epoch 19/50\n",
      "15664/15664 [==============================] - 2s 147us/step - loss: 0.0793 - acc: 0.9814 - val_loss: 2.3122 - val_acc: 0.6483\n",
      "Epoch 20/50\n",
      "15664/15664 [==============================] - 2s 147us/step - loss: 0.0884 - acc: 0.9791 - val_loss: 1.9483 - val_acc: 0.6616\n",
      "Epoch 21/50\n",
      "15664/15664 [==============================] - 2s 147us/step - loss: 0.0677 - acc: 0.9821 - val_loss: 2.1219 - val_acc: 0.6664\n",
      "Epoch 22/50\n",
      "15664/15664 [==============================] - 2s 151us/step - loss: 0.0763 - acc: 0.9826 - val_loss: 1.8949 - val_acc: 0.6723\n",
      "Epoch 23/50\n",
      "15664/15664 [==============================] - 2s 149us/step - loss: 0.0954 - acc: 0.9812 - val_loss: 1.9379 - val_acc: 0.6628\n",
      "Epoch 24/50\n",
      "15664/15664 [==============================] - 2s 149us/step - loss: 0.0607 - acc: 0.9868 - val_loss: 1.9574 - val_acc: 0.6708\n",
      "Epoch 25/50\n",
      "15664/15664 [==============================] - 2s 147us/step - loss: 0.0599 - acc: 0.9851 - val_loss: 1.9575 - val_acc: 0.6746\n",
      "Epoch 26/50\n",
      "15664/15664 [==============================] - 2s 147us/step - loss: 0.0666 - acc: 0.9882 - val_loss: 2.1618 - val_acc: 0.6687\n",
      "Epoch 27/50\n",
      "15664/15664 [==============================] - 2s 147us/step - loss: 0.0752 - acc: 0.9858 - val_loss: 2.2320 - val_acc: 0.6759\n",
      "Epoch 28/50\n",
      "15664/15664 [==============================] - 2s 147us/step - loss: 0.0826 - acc: 0.9851 - val_loss: 2.1633 - val_acc: 0.6789\n",
      "Epoch 29/50\n",
      "15664/15664 [==============================] - 2s 147us/step - loss: 0.0828 - acc: 0.9864 - val_loss: 2.1289 - val_acc: 0.6812\n",
      "Epoch 30/50\n",
      "15664/15664 [==============================] - 2s 144us/step - loss: 0.0583 - acc: 0.9858 - val_loss: 2.2124 - val_acc: 0.6715\n",
      "Epoch 31/50\n",
      "15664/15664 [==============================] - 2s 148us/step - loss: 0.0742 - acc: 0.9837 - val_loss: 2.1975 - val_acc: 0.6590\n",
      "Epoch 32/50\n",
      "15664/15664 [==============================] - 2s 146us/step - loss: 0.0513 - acc: 0.9886 - val_loss: 2.2243 - val_acc: 0.6705\n",
      "Epoch 33/50\n",
      "15664/15664 [==============================] - 2s 147us/step - loss: 0.0518 - acc: 0.9872 - val_loss: 2.3155 - val_acc: 0.6613\n",
      "Epoch 34/50\n",
      "15664/15664 [==============================] - 2s 149us/step - loss: 0.0642 - acc: 0.9868 - val_loss: 2.3744 - val_acc: 0.6700\n",
      "Epoch 35/50\n",
      "15664/15664 [==============================] - 2s 150us/step - loss: 0.0684 - acc: 0.9862 - val_loss: 2.1607 - val_acc: 0.6828\n",
      "Epoch 36/50\n",
      "15664/15664 [==============================] - 2s 149us/step - loss: 0.0452 - acc: 0.9901 - val_loss: 2.2518 - val_acc: 0.6794\n",
      "Epoch 37/50\n",
      "15664/15664 [==============================] - 2s 147us/step - loss: 0.0582 - acc: 0.9885 - val_loss: 2.3578 - val_acc: 0.6782\n",
      "Epoch 38/50\n",
      "15664/15664 [==============================] - 2s 149us/step - loss: 0.0836 - acc: 0.9851 - val_loss: 2.0733 - val_acc: 0.6746\n",
      "Epoch 39/50\n",
      "15664/15664 [==============================] - 2s 149us/step - loss: 0.0367 - acc: 0.9927 - val_loss: 2.5335 - val_acc: 0.6746\n",
      "Epoch 40/50\n",
      "15664/15664 [==============================] - 2s 147us/step - loss: 0.0468 - acc: 0.9876 - val_loss: 2.3751 - val_acc: 0.6743\n",
      "Epoch 41/50\n",
      "15664/15664 [==============================] - 2s 146us/step - loss: 0.0314 - acc: 0.9912 - val_loss: 3.1738 - val_acc: 0.6386\n",
      "Epoch 42/50\n",
      "15664/15664 [==============================] - 2s 147us/step - loss: 0.0316 - acc: 0.9900 - val_loss: 2.6061 - val_acc: 0.6759\n",
      "Epoch 43/50\n",
      "15664/15664 [==============================] - 2s 150us/step - loss: 0.0390 - acc: 0.9893 - val_loss: 2.3747 - val_acc: 0.6822\n",
      "Epoch 44/50\n",
      "15664/15664 [==============================] - 2s 148us/step - loss: 0.0651 - acc: 0.9888 - val_loss: 2.4079 - val_acc: 0.6782\n",
      "Epoch 45/50\n",
      "15664/15664 [==============================] - 2s 147us/step - loss: 0.0535 - acc: 0.9889 - val_loss: 2.3848 - val_acc: 0.6830\n",
      "Epoch 46/50\n",
      "15664/15664 [==============================] - 2s 146us/step - loss: 0.0391 - acc: 0.9896 - val_loss: 2.2801 - val_acc: 0.6741\n",
      "Epoch 47/50\n",
      "15664/15664 [==============================] - 2s 148us/step - loss: 0.0244 - acc: 0.9936 - val_loss: 2.4642 - val_acc: 0.6792\n",
      "Epoch 48/50\n",
      "15664/15664 [==============================] - 2s 150us/step - loss: 0.0440 - acc: 0.9898 - val_loss: 2.6824 - val_acc: 0.6644\n",
      "Epoch 49/50\n",
      "15664/15664 [==============================] - 2s 150us/step - loss: 0.0395 - acc: 0.9897 - val_loss: 2.3865 - val_acc: 0.6575\n",
      "Epoch 50/50\n",
      "15664/15664 [==============================] - 2s 147us/step - loss: 0.0332 - acc: 0.9913 - val_loss: 2.9418 - val_acc: 0.6439\n"
     ]
    },
    {
     "data": {
      "text/plain": [
       "<keras.callbacks.History at 0x7f08da0a0630>"
      ]
     },
     "execution_count": 9,
     "metadata": {},
     "output_type": "execute_result"
    }
   ],
   "source": [
    "model.fit(x_train, y_train,\n",
    "          batch_size=128,\n",
    "          epochs=50,\n",
    "          validation_data=(x_val, y_val))"
   ]
  },
  {
   "cell_type": "code",
   "execution_count": null,
   "metadata": {},
   "outputs": [],
   "source": []
  }
 ],
 "metadata": {
  "kernelspec": {
   "display_name": "Python 3",
   "language": "python",
   "name": "python3"
  },
  "language_info": {
   "codemirror_mode": {
    "name": "ipython",
    "version": 3
   },
   "file_extension": ".py",
   "mimetype": "text/x-python",
   "name": "python",
   "nbconvert_exporter": "python",
   "pygments_lexer": "ipython3",
   "version": "3.5.2"
  }
 },
 "nbformat": 4,
 "nbformat_minor": 2
}
