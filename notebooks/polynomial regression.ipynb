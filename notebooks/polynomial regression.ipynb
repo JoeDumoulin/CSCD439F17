{
 "cells": [
  {
   "cell_type": "code",
   "execution_count": 1,
   "metadata": {},
   "outputs": [
    {
     "data": {
      "text/plain": [
       "((120, 2), (120,))"
      ]
     },
     "execution_count": 1,
     "metadata": {},
     "output_type": "execute_result"
    }
   ],
   "source": [
    "import numpy as np\n",
    "import matplotlib.pyplot as plt\n",
    "from sklearn import linear_model, datasets\n",
    "from sklearn.model_selection import train_test_split\n",
    "\n",
    "\n",
    "# import some data to play with\n",
    "iris = datasets.load_iris()\n",
    "X = iris.data[:, :2]  # we only take the first two features.\n",
    "Y = iris.target\n",
    "\n",
    "X_train, X_test, y_train, y_test = train_test_split(X, Y, test_size=0.2, random_state=1)\n",
    "\n",
    "X_train.shape, y_train.shape"
   ]
  },
  {
   "cell_type": "code",
   "execution_count": 16,
   "metadata": {},
   "outputs": [],
   "source": [
    "from sklearn.preprocessing import PolynomialFeatures\n",
    "from sklearn.pipeline import Pipeline\n",
    "model = Pipeline([('poly', PolynomialFeatures(degree=2)),\n",
    "                  ('linear', linear_model.LogisticRegression(fit_intercept=False))])\n",
    "result = model.fit(X_train, y_train)"
   ]
  },
  {
   "cell_type": "code",
   "execution_count": 17,
   "metadata": {},
   "outputs": [
    {
     "data": {
      "text/plain": [
       "array([[ 0.37052804,  0.87495095,  0.67576407, -0.88703761,  0.56431284,\n",
       "         0.97587475],\n",
       "       [ 0.15145275,  1.11891507, -0.0700449 , -0.33881532,  1.03586181,\n",
       "        -1.52662987],\n",
       "       [-0.48943342, -1.32436234, -0.75360699,  0.05959038,  0.89361376,\n",
       "        -0.88261994]])"
      ]
     },
     "execution_count": 17,
     "metadata": {},
     "output_type": "execute_result"
    }
   ],
   "source": [
    "result.named_steps['linear'].coef_"
   ]
  },
  {
   "cell_type": "code",
   "execution_count": 18,
   "metadata": {},
   "outputs": [
    {
     "data": {
      "text/plain": [
       "array([[0, 0],\n",
       "       [1, 0],\n",
       "       [0, 1],\n",
       "       [2, 0],\n",
       "       [1, 1],\n",
       "       [0, 2]])"
      ]
     },
     "execution_count": 18,
     "metadata": {},
     "output_type": "execute_result"
    }
   ],
   "source": [
    "result.named_steps['poly'].powers_"
   ]
  },
  {
   "cell_type": "code",
   "execution_count": 21,
   "metadata": {
    "scrolled": false
   },
   "outputs": [
    {
     "data": {
      "text/plain": [
       "array([  9.  ,   9.  ,   6.25,   7.84,   7.84,  13.69,   5.29,  11.56,\n",
       "         7.84,   6.25,   9.  ,  12.25,   4.84,   8.41,   8.41,   6.76,\n",
       "        14.44,  12.96,   9.  ,   7.29,  11.56,  12.25,  14.44,   9.61,\n",
       "         8.41,   7.84,   7.84,  11.56,   7.84,   9.  ,  11.56,   6.25,\n",
       "         7.29,   9.  ,  10.24,   9.  ,  11.56,   9.  ,  10.24,   9.61,\n",
       "         7.84,  10.89,   9.  ,  14.44,   4.84,   8.41,   9.  ,   5.29,\n",
       "        10.89,   6.25,  13.69,   9.61,  16.81,  10.89,   9.  ,   7.29,\n",
       "         7.29,   9.  ,  12.25,  10.89,   7.29,   9.61,   7.84,   8.41,\n",
       "         9.  ,   9.  ,   5.29,  11.56,  12.96,   8.41,  19.36,   7.29,\n",
       "         5.29,   5.76,   9.61,  11.56,   7.84,  12.25,  11.56,  11.56,\n",
       "         7.84,  10.24,  10.89,  13.69,  10.24,   9.61,   7.29,   9.61,\n",
       "         9.  ,   6.25,  10.24,  10.24,   9.  ,   9.  ,   8.41,   5.76,\n",
       "         4.  ,  12.25,   9.  ,   5.76,  12.96,   9.  ,   8.41,  11.56,\n",
       "         9.61,   8.41,   4.84,  10.24,   7.29,  11.56,   9.  ,   6.76,\n",
       "         7.84,   9.  ,   6.76,   7.84,   9.61,   6.25,   9.61,   9.61])"
      ]
     },
     "execution_count": 21,
     "metadata": {},
     "output_type": "execute_result"
    }
   ],
   "source": [
    "result.named_steps['poly'].fit_transform(X_train)[:,5]"
   ]
  },
  {
   "cell_type": "code",
   "execution_count": null,
   "metadata": {},
   "outputs": [],
   "source": []
  }
 ],
 "metadata": {
  "kernelspec": {
   "display_name": "Python 3",
   "language": "python",
   "name": "python3"
  },
  "language_info": {
   "codemirror_mode": {
    "name": "ipython",
    "version": 3
   },
   "file_extension": ".py",
   "mimetype": "text/x-python",
   "name": "python",
   "nbconvert_exporter": "python",
   "pygments_lexer": "ipython3",
   "version": "3.5.2"
  }
 },
 "nbformat": 4,
 "nbformat_minor": 2
}
