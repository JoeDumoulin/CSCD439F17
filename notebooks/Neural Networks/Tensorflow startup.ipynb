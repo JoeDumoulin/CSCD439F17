{
 "cells": [
  {
   "cell_type": "markdown",
   "metadata": {},
   "source": [
    "## Installing tensorflow in your vm\n",
    "\n",
    "You can pretty easily add tensorflow to your vm to support some small deep learning projects.  Follow the instructions below.\n",
    "\n",
    "First open a terminal in your vm and do \n",
    "\n",
    "```\n",
    "sudo apt-get update\n",
    "sudo apt-get upgrade\n",
    "```\n",
    "\n",
    "Next, start your virtual environment.  Mine is called \"test\" so I start with:\n",
    "\n",
    "```\n",
    "source test/bin/activate\n",
    "```\n",
    "\n",
    "Next, install tensorflow:\n",
    "\n",
    "```\n",
    "pip install --upgrade tensorflow\n",
    "```\n",
    "\n",
    "Test your installation with the following code:"
   ]
  },
  {
   "cell_type": "code",
   "execution_count": 4,
   "metadata": {},
   "outputs": [],
   "source": [
    "import tensorflow as tf\n",
    "# to make this notebook's output stable across runs\n",
    "def reset_graph(seed=42):\n",
    "    tf.reset_default_graph()\n",
    "    tf.set_random_seed(seed)\n",
    "    np.random.seed(seed)"
   ]
  },
  {
   "cell_type": "code",
   "execution_count": 5,
   "metadata": {},
   "outputs": [
    {
     "name": "stdout",
     "output_type": "stream",
     "text": [
      "b'Hello, TensorFlow!'\n"
     ]
    }
   ],
   "source": [
    "import tensorflow as tf\n",
    "hello = tf.constant('Hello, TensorFlow!')\n",
    "sess = tf.Session()\n",
    "print(sess.run(hello))"
   ]
  },
  {
   "cell_type": "markdown",
   "metadata": {},
   "source": [
    "## Computational Graphs and Sessions\n",
    "\n",
    "OK, now we have tf installed we can try to do something interesting with it.  But first we need to understand a little about the execution model and what happens internally with tensorflow.\n",
    "\n",
    "Tensorflow uses graphs to define functions to execute.  Each constant, variable, and expression is  node of the graph.  This provides a sometimes complex but very flexible method for defining and executing functions.  Some of the important benefits are:\n",
    "\n",
    "* Graphs can be evaluated starting at any node.  Evaluating a node implie evaluating all previous nodes.\n",
    "* Parallel computations are easier to figure out since dependent relationships are explicitly determined by the graph.\n",
    "\n",
    "Below is a very simple example of a tesorflow computational graph:"
   ]
  },
  {
   "cell_type": "code",
   "execution_count": 6,
   "metadata": {},
   "outputs": [],
   "source": [
    "import numpy as np\n",
    "from sklearn.datasets import fetch_california_housing\n",
    "\n",
    "housing = fetch_california_housing()\n",
    "m,n = housing.data.shape  # m= number of samples, n = number of predictors\n",
    "housing_data_plus_bias = np.c_[np.ones((m,1)), housing.data]"
   ]
  },
  {
   "cell_type": "code",
   "execution_count": 7,
   "metadata": {},
   "outputs": [],
   "source": [
    "reset_graph()\n",
    "\n",
    "# Question: what learning method is implemented below?\n",
    "X = tf.constant(housing_data_plus_bias, dtype=tf.float32, name=\"X\")\n",
    "y = tf.constant(housing.target.reshape(-1, 1), dtype=tf.float32, name=\"y\")\n",
    "XT = tf.transpose(X)\n",
    "theta = tf.matmul(tf.matmul(tf.matrix_inverse(tf.matmul(XT, X)), XT), y)\n",
    "\n",
    "with tf.Session() as sess:\n",
    "    theta_value = theta.eval()"
   ]
  },
  {
   "cell_type": "code",
   "execution_count": 8,
   "metadata": {},
   "outputs": [
    {
     "data": {
      "text/plain": [
       "(array([[ -3.74651413e+01],\n",
       "        [  4.35734153e-01],\n",
       "        [  9.33829229e-03],\n",
       "        [ -1.06622010e-01],\n",
       "        [  6.44106984e-01],\n",
       "        [ -4.25131839e-06],\n",
       "        [ -3.77322501e-03],\n",
       "        [ -4.26648885e-01],\n",
       "        [ -4.40514028e-01]], dtype=float32), 8)"
      ]
     },
     "execution_count": 8,
     "metadata": {},
     "output_type": "execute_result"
    }
   ],
   "source": [
    "theta_value, n"
   ]
  },
  {
   "cell_type": "markdown",
   "metadata": {},
   "source": [
    "In the above setup, we see that the computational graph is evaluated on an object called a \"session\"."
   ]
  },
  {
   "cell_type": "markdown",
   "metadata": {},
   "source": [
    "Below we have an example of a neural network with a single hidden layer that solves a classifier for the iris data set.  This is using some high-level tools provided byt tensorflow."
   ]
  },
  {
   "cell_type": "code",
   "execution_count": 16,
   "metadata": {},
   "outputs": [
    {
     "data": {
      "text/plain": [
       "((120, 4), (120,))"
      ]
     },
     "execution_count": 16,
     "metadata": {},
     "output_type": "execute_result"
    }
   ],
   "source": [
    "from sklearn.datasets import load_iris\n",
    "from sklearn.model_selection import train_test_split\n",
    "\n",
    "\n",
    "# import some data to play with\n",
    "iris = load_iris()\n",
    "#X = iris.data[:, :2]  # we only take the first two features.\n",
    "X = iris.data  # we only take the first two features.\n",
    "Y = iris.target\n",
    "\n",
    "X_train, X_test, y_train, y_test = train_test_split(X, Y, test_size=0.2, random_state=1)\n",
    "\n",
    "X_train.shape, y_train.shape"
   ]
  },
  {
   "cell_type": "code",
   "execution_count": 22,
   "metadata": {},
   "outputs": [
    {
     "name": "stdout",
     "output_type": "stream",
     "text": [
      "WARNING:tensorflow:float64 is not supported by many models, consider casting to float32.\n",
      "INFO:tensorflow:Using default config.\n",
      "WARNING:tensorflow:Using temporary folder as model directory: /tmp/tmp8sk99a_j\n",
      "INFO:tensorflow:Using config: {'_num_ps_replicas': 0, '_keep_checkpoint_max': 5, '_save_checkpoints_secs': 600, '_log_step_count_steps': 100, '_evaluation_master': '', '_session_config': None, '_tf_random_seed': None, '_num_worker_replicas': 0, '_tf_config': gpu_options {\n",
      "  per_process_gpu_memory_fraction: 1.0\n",
      "}\n",
      ", '_keep_checkpoint_every_n_hours': 10000, '_save_checkpoints_steps': None, '_master': '', '_environment': 'local', '_task_type': None, '_is_chief': True, '_save_summary_steps': 100, '_model_dir': '/tmp/tmp8sk99a_j', '_cluster_spec': <tensorflow.python.training.server_lib.ClusterSpec object at 0x7f4f5834d278>, '_task_id': 0}\n",
      "WARNING:tensorflow:float64 is not supported by many models, consider casting to float32.\n",
      "INFO:tensorflow:Create CheckpointSaverHook.\n",
      "INFO:tensorflow:Saving checkpoints for 1 into /tmp/tmp8sk99a_j/model.ckpt.\n",
      "INFO:tensorflow:loss = 7.17847, step = 1\n",
      "INFO:tensorflow:global_step/sec: 706.48\n",
      "INFO:tensorflow:loss = 0.279563, step = 101 (0.147 sec)\n",
      "INFO:tensorflow:global_step/sec: 544.314\n",
      "INFO:tensorflow:loss = 0.215309, step = 201 (0.189 sec)\n",
      "INFO:tensorflow:global_step/sec: 545.588\n",
      "INFO:tensorflow:loss = 0.121026, step = 301 (0.178 sec)\n",
      "INFO:tensorflow:global_step/sec: 552.603\n",
      "INFO:tensorflow:loss = 0.124447, step = 401 (0.192 sec)\n",
      "INFO:tensorflow:global_step/sec: 506.744\n",
      "INFO:tensorflow:loss = 0.0746497, step = 501 (0.190 sec)\n",
      "INFO:tensorflow:global_step/sec: 542.993\n",
      "INFO:tensorflow:loss = 0.112957, step = 601 (0.181 sec)\n",
      "INFO:tensorflow:global_step/sec: 678.22\n",
      "INFO:tensorflow:loss = 0.0255683, step = 701 (0.146 sec)\n",
      "INFO:tensorflow:global_step/sec: 932.754\n",
      "INFO:tensorflow:loss = 0.0722042, step = 801 (0.107 sec)\n",
      "INFO:tensorflow:global_step/sec: 732.095\n",
      "INFO:tensorflow:loss = 0.0518719, step = 901 (0.137 sec)\n",
      "INFO:tensorflow:Saving checkpoints for 1000 into /tmp/tmp8sk99a_j/model.ckpt.\n",
      "INFO:tensorflow:Loss for final step: 0.0888782.\n"
     ]
    },
    {
     "data": {
      "text/plain": [
       "SKCompat()"
      ]
     },
     "execution_count": 22,
     "metadata": {},
     "output_type": "execute_result"
    }
   ],
   "source": [
    "reset_graph()\n",
    "\n",
    "feature_cols = tf.contrib.learn.infer_real_valued_columns_from_input(X_train)\n",
    "net = tf.contrib.learn.DNNClassifier(hidden_units=[6,6], n_classes=3, feature_columns=feature_cols)\n",
    "net = tf.contrib.learn.SKCompat(net)\n",
    "net.fit(X_train, y_train, batch_size=20, steps=1000)"
   ]
  },
  {
   "cell_type": "code",
   "execution_count": 20,
   "metadata": {},
   "outputs": [
    {
     "name": "stdout",
     "output_type": "stream",
     "text": [
      "WARNING:tensorflow:float64 is not supported by many models, consider casting to float32.\n",
      "INFO:tensorflow:Restoring parameters from /tmp/tmpzerozvaq/model.ckpt-1000\n"
     ]
    },
    {
     "data": {
      "text/plain": [
       "array([[11,  0,  0],\n",
       "       [ 0, 12,  1],\n",
       "       [ 0,  0,  6]])"
      ]
     },
     "execution_count": 20,
     "metadata": {},
     "output_type": "execute_result"
    }
   ],
   "source": [
    "from sklearn.metrics import accuracy_score, confusion_matrix, classification_report\n",
    "\n",
    "y_predict = net.predict(X_test)\n",
    "confusion_matrix(y_test, y_predict['classes'])"
   ]
  },
  {
   "cell_type": "code",
   "execution_count": 25,
   "metadata": {},
   "outputs": [
    {
     "name": "stdout",
     "output_type": "stream",
     "text": [
      "             precision    recall  f1-score   support\n",
      "\n",
      "          0       1.00      1.00      1.00        11\n",
      "          1       1.00      0.92      0.96        13\n",
      "          2       0.86      1.00      0.92         6\n",
      "\n",
      "avg / total       0.97      0.97      0.97        30\n",
      "\n"
     ]
    }
   ],
   "source": [
    "print(classification_report(y_test, y_predict['classes']))"
   ]
  }
 ],
 "metadata": {
  "kernelspec": {
   "display_name": "Python 3",
   "language": "python",
   "name": "python3"
  },
  "language_info": {
   "codemirror_mode": {
    "name": "ipython",
    "version": 3
   },
   "file_extension": ".py",
   "mimetype": "text/x-python",
   "name": "python",
   "nbconvert_exporter": "python",
   "pygments_lexer": "ipython3",
   "version": "3.5.2"
  }
 },
 "nbformat": 4,
 "nbformat_minor": 2
}
