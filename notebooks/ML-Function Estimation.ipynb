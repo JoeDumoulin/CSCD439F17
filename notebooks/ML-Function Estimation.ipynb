{
 "cells": [
  {
   "cell_type": "markdown",
   "metadata": {},
   "source": [
    "## Function Estimation\n"
   ]
  },
  {
   "cell_type": "markdown",
   "metadata": {
    "collapsed": true
   },
   "source": [
    "let's imagine we are trying to learn an arbitrary function from X to Y:\n",
    "\n",
    "$$y = f(X) + \\epsilon $$\n",
    "\n",
    "where $y$ is a scalar, $f$ is an abitrary function, $X$ is a vector of values that we know, and $\\epsilon$ represents a part of te function for which the variables are unkown to us.\n",
    "\n",
    "We can look at an example of data like this below.  The example below is data about aeducation and susequent income for individuals.  What we would like to do is learn a function that predicts an individual's income from that individual'a level of education.  The central assumption is that we _can_ predict income from education.\n"
   ]
  },
  {
   "cell_type": "code",
   "execution_count": 43,
   "metadata": {},
   "outputs": [
    {
     "data": {
      "text/html": [
       "<div style=\"max-height:1000px;max-width:1500px;overflow:auto;\">\n",
       "<table border=\"1\" class=\"dataframe\">\n",
       "  <thead>\n",
       "    <tr style=\"text-align: right;\">\n",
       "      <th></th>\n",
       "      <th>Education</th>\n",
       "      <th>Income</th>\n",
       "    </tr>\n",
       "  </thead>\n",
       "  <tbody>\n",
       "    <tr>\n",
       "      <th>0</th>\n",
       "      <td> 10.000000</td>\n",
       "      <td> 26.658839</td>\n",
       "    </tr>\n",
       "    <tr>\n",
       "      <th>1</th>\n",
       "      <td> 10.401338</td>\n",
       "      <td> 27.306435</td>\n",
       "    </tr>\n",
       "    <tr>\n",
       "      <th>2</th>\n",
       "      <td> 10.842809</td>\n",
       "      <td> 22.132410</td>\n",
       "    </tr>\n",
       "    <tr>\n",
       "      <th>3</th>\n",
       "      <td> 11.244147</td>\n",
       "      <td> 21.169841</td>\n",
       "    </tr>\n",
       "    <tr>\n",
       "      <th>4</th>\n",
       "      <td> 11.645485</td>\n",
       "      <td> 15.192634</td>\n",
       "    </tr>\n",
       "  </tbody>\n",
       "</table>\n",
       "</div>"
      ],
      "text/plain": [
       "   Education     Income\n",
       "0  10.000000  26.658839\n",
       "1  10.401338  27.306435\n",
       "2  10.842809  22.132410\n",
       "3  11.244147  21.169841\n",
       "4  11.645485  15.192634"
      ]
     },
     "execution_count": 43,
     "metadata": {},
     "output_type": "execute_result"
    }
   ],
   "source": [
    "import pandas as pd\n",
    "df = pd.read_csv('Income1.csv')[['Education', 'Income']]\n",
    "df.head()"
   ]
  },
  {
   "cell_type": "code",
   "execution_count": 16,
   "metadata": {},
   "outputs": [
    {
     "data": {
      "image/png": "[encoded data removed]",
      "text/plain": [
       "<matplotlib.figure.Figure at 0x10c010610>"
      ]
     },
     "metadata": {},
     "output_type": "display_data"
    }
   ],
   "source": [
    "import matplotlib.pyplot as plt\n",
    "plt.scatter(df['Education'], df['Income'])\n",
    "plt.show()\n",
    "            "
   ]
  },
  {
   "cell_type": "markdown",
   "metadata": {},
   "source": [
    "Above we've created a scatter plot of the points in this set and it looks like the data is approximately set up on a line.  Lets draw the line that minimizes the error.  This line will be represented by the typical line formula:\n",
    "$$ \\hat{y} = \\hat{f}(x) = mx + b $$\n",
    "Where $\\hat{y}$ is the estimated income.  We can use linear regression to calculate $m$ and $b$ and then we can use them to draw the line."
   ]
  },
  {
   "cell_type": "code",
   "execution_count": 44,
   "metadata": {},
   "outputs": [
    {
     "data": {
      "text/plain": [
       "Intercept   -39.446257\n",
       "Education     5.599483\n",
       "dtype: float64"
      ]
     },
     "execution_count": 44,
     "metadata": {},
     "output_type": "execute_result"
    }
   ],
   "source": [
    "import numpy as np\n",
    "import statsmodels.api as sm\n",
    "from patsy import dmatrices\n",
    "y, X = dmatrices('Income ~ Education', data=df, return_type='dataframe')\n",
    "model = sm.OLS(y, sm.add_constant(X))\n",
    "results = model.fit()\n",
    "p = results.params\n",
    "xs = np.arange(10, 22)\n",
    "p"
   ]
  },
  {
   "cell_type": "markdown",
   "metadata": {},
   "source": [
    "The Intercept above is $b$ and Education is $m$.  Now we can draw the best fit linear estimate."
   ]
  },
  {
   "cell_type": "code",
   "execution_count": 45,
   "metadata": {},
   "outputs": [
    {
     "data": {
      "image/png": "[encoded data removed]",
      "text/plain": [
       "<matplotlib.figure.Figure at 0x10c0d4a50>"
      ]
     },
     "metadata": {},
     "output_type": "display_data"
    }
   ],
   "source": [
    "# scatter-plot data\n",
    "ax = df.plot(x='Education', y='Income', kind='scatter')\n",
    "\n",
    "# plot regression line on the same axes, set x-axis limits\n",
    "ax.plot(xs, p.Intercept + p.Education * xs, color='red')\n",
    "ax.set_xlim([10, 22])\n",
    "plt.show()"
   ]
  },
  {
   "cell_type": "markdown",
   "metadata": {},
   "source": [
    "Just by inspection this line looks very close to the data, suggesting there is a linear relationship between years of education education and income in this dataset.  Notice though that the line we calculated doesn't match the data perfectly.  Some is a little above or a little below the line.  That means we have some variance associated with the line.\n",
    "\n",
    "More formally, the line above estimates our data with an approximate function\n",
    "$$ \\hat{y} = \\hat{f}(x) $$\n",
    "We can check what sort of error to expect by calculating the expected value of the squared difference of $\\hat{y}$ and $y$.\n",
    "\n",
    "$$E(y - \\hat{y})^2 = E(f(X) + \\epsilon - \\hat{f}(X))^2$$\n",
    "$$ = E(f(X) - \\hat{f}(X))^2 + Var(\\epsilon)$$\n",
    "\n",
    "The first part of this result is expectation of the squared error that we can minimize during learining.  the second part is the variance of the uncontrolled error of the model.  Uncontrolled error is error caused by unknown parameters and other items that are missing from the analysis for whatever reason."
   ]
  }
 ],
 "metadata": {
  "kernelspec": {
   "display_name": "Python 3",
   "language": "python",
   "name": "python3"
  },
  "language_info": {
   "codemirror_mode": {
    "name": "ipython",
    "version": 3
   },
   "file_extension": ".py",
   "mimetype": "text/x-python",
   "name": "python",
   "nbconvert_exporter": "python",
   "pygments_lexer": "ipython3",
   "version": "3.5.2"
  }
 },
 "nbformat": 4,
 "nbformat_minor": 2
}
